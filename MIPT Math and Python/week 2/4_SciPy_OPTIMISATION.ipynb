{
 "cells": [
  {
   "cell_type": "markdown",
   "metadata": {},
   "source": [
    "# Оптимизация в SciPy"
   ]
  },
  {
   "cell_type": "code",
   "execution_count": 3,
   "metadata": {
    "collapsed": true
   },
   "outputs": [],
   "source": [
    "from scipy import optimize as opt  "
   ]
  },
  {
   "cell_type": "code",
   "execution_count": 1,
   "metadata": {
    "collapsed": false
   },
   "outputs": [
    {
     "name": "stdout",
     "output_type": "stream",
     "text": [
      "0.0\n"
     ]
    }
   ],
   "source": [
    "def rosenbrock(x):# some rosenbrock function\n",
    "    return .5*(1-x[0])**2 + (x[1]-x[0]**2)**2\n",
    "\n",
    "\n",
    "print rosenbrock([1,1])#it is minimum of function "
   ]
  },
  {
   "cell_type": "code",
   "execution_count": 9,
   "metadata": {
    "collapsed": false
   },
   "outputs": [
    {
     "data": {
      "image/png": "[encoded data removed]",
      "text/plain": [
       "<matplotlib.figure.Figure at 0x859d668>"
      ]
     },
     "metadata": {},
     "output_type": "display_data"
    }
   ],
   "source": [
    "#visualise Rosenbrock minimum\n",
    "%matplotlib inline\n",
    "from matplotlib import pylab as plt\n",
    "import numpy as np\n",
    "\n",
    "x=[np.arange(-2, 2, 0.0001), np.arange(-2, 2, 0.0001)]\n",
    "y=rosenbrock(x)\n",
    "plt.plot(x[1], y)\n",
    "plt.show()"
   ]
  },
  {
   "cell_type": "code",
   "execution_count": 10,
   "metadata": {
    "collapsed": false
   },
   "outputs": [
    {
     "data": {
      "text/plain": [
       "array([ 0.99999324,  1.00001283])"
      ]
     },
     "execution_count": 10,
     "metadata": {},
     "output_type": "execute_result"
    }
   ],
   "source": [
    "# lets optimise find minimum\n",
    "# first aproach - ПЕРЕБОР\n",
    "\n",
    "reslt=opt.brute(rosenbrock, ((-5,5), (-5,5)))\n",
    "reslt\n",
    "#результат есть но долго перебирать               "
   ]
  },
  {
   "cell_type": "code",
   "execution_count": 12,
   "metadata": {
    "collapsed": false
   },
   "outputs": [
    {
     "data": {
      "text/plain": [
       "     fun: 3.8659110028663935e-20\n",
       " message: 'Optimization terminated successfully.'\n",
       "    nfev: 1983\n",
       "     nit: 65\n",
       " success: True\n",
       "       x: array([ 1.,  1.])"
      ]
     },
     "execution_count": 12,
     "metadata": {},
     "output_type": "execute_result"
    }
   ],
   "source": [
    "# если функция плохая ну то есть в ней есть разрывы, \n",
    "# может быть она не гладкая, то подойдет дифференциальная эволюция\n",
    "#Это ГЕНЕТИЧЕСКИЙ АЛГОРИТМ\n",
    "\n",
    "reslt=opt.differential_evolution(rosenbrock, ((-5,5), (-5,5)))\n",
    "reslt"
   ]
  },
  {
   "cell_type": "markdown",
   "metadata": {},
   "source": [
    "# Градиент"
   ]
  },
  {
   "cell_type": "markdown",
   "metadata": {},
   "source": [
    "Для решения градиентных задач используем градиентные функции. При этом в начале мы используем градиент функции Розенброка"
   ]
  },
  {
   "cell_type": "code",
   "execution_count": 2,
   "metadata": {
    "collapsed": true
   },
   "outputs": [],
   "source": [
    "import numpy as np\n",
    "\n",
    "def gr(x):\n",
    "    return np.array((-2*.5*(1-x[0])-4*x[0]*(x[1]-x[0]**2), 2*(x[1]-x[0]**2)))"
   ]
  },
  {
   "cell_type": "code",
   "execution_count": 4,
   "metadata": {
    "collapsed": false
   },
   "outputs": [
    {
     "name": "stdout",
     "output_type": "stream",
     "text": [
      "2.38418579102e-07\n"
     ]
    }
   ],
   "source": [
    "# проверим градиент функции с численой оценкой.\n",
    "# Результат проверки должен быть небольшим числом тогда \n",
    "# градиент верен и мы можем его использовать\n",
    "\n",
    "\n",
    "print opt.check_grad(rosenbrock, gr, [2, 2])"
   ]
  },
  {
   "cell_type": "code",
   "execution_count": 5,
   "metadata": {
    "collapsed": false
   },
   "outputs": [
    {
     "name": "stdout",
     "output_type": "stream",
     "text": [
      "Optimization terminated successfully.\n",
      "         Current function value: 0.000000\n",
      "         Iterations: 16\n",
      "         Function evaluations: 24\n",
      "         Gradient evaluations: 24\n",
      "[ 1.00000017  1.00000026]\n"
     ]
    }
   ],
   "source": [
    "# Теперь используем градиентную функцию для вычисления минимума.\n",
    "# Один из популярных градиентных методов — bfgs.\n",
    "print opt.fmin_bfgs(rosenbrock, [2, 2], fprime=gr)\n",
    "\n",
    "\n",
    "# т.е. если функция хорошая(без разрывов ) \n",
    "# мы можем использовать градиентный подход. \n",
    "# Это будет быстрее так в данном случае 16 итераций "
   ]
  },
  {
   "cell_type": "code",
   "execution_count": 7,
   "metadata": {
    "collapsed": false
   },
   "outputs": [
    {
     "name": "stdout",
     "output_type": "stream",
     "text": [
      "      fun: 9.538460152507302e-15\n",
      " hess_inv: array([[ 0.98632001,  1.97824278],\n",
      "       [ 1.97824278,  4.46512261]])\n",
      "      jac: array([  4.74186475e-07,  -1.53939058e-07])\n",
      "  message: 'Optimization terminated successfully.'\n",
      "     nfev: 96\n",
      "      nit: 16\n",
      "     njev: 24\n",
      "   status: 0\n",
      "  success: True\n",
      "        x: array([ 1.00000007,  1.00000005])\n"
     ]
    }
   ],
   "source": [
    "# Можно использовать функцию MINIMISE она сама определит \n",
    "# насколько функция хороша для применения различных подходов \n",
    "#\n",
    "\n",
    "print opt.minimize(rosenbrock, [2, 2])"
   ]
  },
  {
   "cell_type": "code",
   "execution_count": 10,
   "metadata": {
    "collapsed": false
   },
   "outputs": [
    {
     "name": "stdout",
     "output_type": "stream",
     "text": [
      "BFGS\n",
      "      fun: 1.9753570833042e-14\n",
      " hess_inv: array([[ 0.98632014,  1.97824322],\n",
      "       [ 1.97824322,  4.46512386]])\n",
      "      jac: array([  4.74186625e-07,  -1.53939016e-07])\n",
      "  message: 'Optimization terminated successfully.'\n",
      "     nfev: 24\n",
      "      nit: 16\n",
      "     njev: 24\n",
      "   status: 0\n",
      "  success: True\n",
      "        x: array([ 1.00000017,  1.00000026])\n",
      "Nelder-Mead\n",
      " final_simplex: (array([[ 0.99998568,  0.99996682],\n",
      "       [ 1.00002149,  1.00004744],\n",
      "       [ 1.0000088 ,  1.00003552]]), array([  1.23119954e-10,   2.50768082e-10,   3.59639951e-10]))\n",
      "           fun: 1.2311995365407462e-10\n",
      "       message: 'Optimization terminated successfully.'\n",
      "          nfev: 91\n",
      "           nit: 46\n",
      "        status: 0\n",
      "       success: True\n",
      "             x: array([ 0.99998568,  0.99996682])\n"
     ]
    }
   ],
   "source": [
    "# можем указать метод \n",
    "print (\"BFGS\")\n",
    "print opt.minimize(rosenbrock, [2, 2], method='BFGS', jac=gr)\n",
    "\n",
    "\n",
    "print (\"Nelder-Mead\")\n",
    "print opt.minimize(rosenbrock, [2, 2], method='Nelder-Mead')\n"
   ]
  },
  {
   "cell_type": "code",
   "execution_count": null,
   "metadata": {
    "collapsed": true
   },
   "outputs": [],
   "source": []
  }
 ],
 "metadata": {
  "anaconda-cloud": {},
  "kernelspec": {
   "display_name": "Python [Root]",
   "language": "python",
   "name": "Python [Root]"
  },
  "language_info": {
   "codemirror_mode": {
    "name": "ipython",
    "version": 2
   },
   "file_extension": ".py",
   "mimetype": "text/x-python",
   "name": "python",
   "nbconvert_exporter": "python",
   "pygments_lexer": "ipython2",
   "version": "2.7.13"
  }
 },
 "nbformat": 4,
 "nbformat_minor": 0
}
