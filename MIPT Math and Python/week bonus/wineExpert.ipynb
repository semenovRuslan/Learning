{
 "cells": [
  {
   "cell_type": "markdown",
   "metadata": {},
   "source": [
    "Данные, которые я хочу сейчас проанализировать вместе с вами, взяты из статьи 2009 года. В ней собраны оценки почти 6500 португальских вин Vinho Verde, выставленных дегустаторами при слепом тестировании в баллах по шкале от 0 до 10."
   ]
  },
  {
   "cell_type": "code",
   "execution_count": 1,
   "metadata": {
    "collapsed": false
   },
   "outputs": [
    {
     "name": "stdout",
     "output_type": "stream",
     "text": [
      "Populating the interactive namespace from numpy and matplotlib\n"
     ]
    }
   ],
   "source": [
    "from scipy.stats import ttest_ind\n",
    "from sklearn.linear_model import LinearRegression\n",
    "from sklearn.cross_validation import train_test_split\n",
    "from sklearn.metrics import mean_squared_error\n",
    "from sklearn.ensemble import RandomForestRegressor\n",
    "\n",
    "import numpy as np\n",
    "import pandas as pd\n",
    "\n",
    "%pylab inline"
   ]
  },
  {
   "cell_type": "code",
   "execution_count": 6,
   "metadata": {
    "collapsed": false
   },
   "outputs": [
    {
     "data": {
      "text/plain": [
       "<matplotlib.text.Text at 0xc6f39b0>"
      ]
     },
     "execution_count": 6,
     "metadata": {},
     "output_type": "execute_result"
    },
    {
     "data": {
      "image/png": "[encoded data removed]",
      "text/plain": [
       "<matplotlib.figure.Figure at 0xc6e8c50>"
      ]
     },
     "metadata": {},
     "output_type": "display_data"
    }
   ],
   "source": [
    "#прочитаем данные\n",
    "wine = pd.read_csv('wine_data.csv', sep='\\t', header=0)\n",
    "wine=wine.sample(frac=1)\n",
    "\n",
    "#так выглядит распределение экспертных оценок\n",
    "plt.figure(figsize(8,6))\n",
    "stat=wine.groupby('quality')['quality'].agg(lambda x:float(len(x))/wine.shape[0])\n",
    "stat.plot(kind='bar', fontsize=14, width=0.9, color=\"red\")\n",
    "plt.xticks(rotation=0)\n",
    "plt.ylabel('Proportion', fontsize=14)\n",
    "plt.xlabel('Quality', fontsize=14)"
   ]
  },
  {
   "cell_type": "markdown",
   "metadata": {},
   "source": [
    "Вот так выглядит распределение экспертных оценок в нашей выборке. Как вы видите, большая часть вин получает оценку в 6 баллов. Есть несколько вин, получающих 9 баллов, и немного вин — 3 балла. \n",
    "\n",
    "Давайте научимся предсказывать этот признак, чтобы мы могли заранее предположить, какую оценку получит вино, которого нет в нашей выборке. "
   ]
  },
  {
   "cell_type": "code",
   "execution_count": 29,
   "metadata": {
    "collapsed": false
   },
   "outputs": [],
   "source": [
    "# Чтобы полноценно смоделировать эту ситуацию, давайте \n",
    "# отделим 25 % данных и оставим их для контроля \n",
    "# качества предсказания, а обучаться будем на \n",
    "# оставшихся 75 %.\n",
    "X_train, X_test, Y_train, Y_test = train_test_split(wine.ix[:, wine.columns!='quality'], wine['quality'], test_size=0.25, \n",
    "                  stratify=wine[['Type', 'quality']])\n",
    "\n",
    "X_train['Type']=X_train['Type'].apply(lambda x:-1 if x==\"red\" else 1)\n",
    "X_test['Type']=X_test['Type'].apply(lambda x:-1 if x==\"red\" else 1)\n"
   ]
  },
  {
   "cell_type": "markdown",
   "metadata": {},
   "source": [
    "Если у нас больше нет никакой информации, то наше лучшее предположение об оценке — это среднее всех имеющихся в обучающей выборке, то есть в данном случае 5,8 балла. "
   ]
  },
  {
   "cell_type": "code",
   "execution_count": 30,
   "metadata": {
    "collapsed": false
   },
   "outputs": [
    {
     "data": {
      "text/plain": [
       "5.823994252873563"
      ]
     },
     "execution_count": 30,
     "metadata": {},
     "output_type": "execute_result"
    }
   ],
   "source": [
    "np.mean(Y_train)"
   ]
  },
  {
   "cell_type": "markdown",
   "metadata": {},
   "source": [
    "Если мы этой величиной будем предсказывать оценку всех вин, то на обучающей выборке мы получим среднеквадратичную ошибку 0,87 баллов, а на тестовой — 0,88. На тестовой выборке ошибка больше, поскольку среднее мы оценивали по обучающей. Это естественный эффект. "
   ]
  },
  {
   "cell_type": "code",
   "execution_count": 31,
   "metadata": {
    "collapsed": false
   },
   "outputs": [
    {
     "name": "stdout",
     "output_type": "stream",
     "text": [
      "Error train:0.874700872145\n",
      "Error test:0.86870923896\n"
     ]
    }
   ],
   "source": [
    "err_train = sqrt(mean_squared_error([np.mean(Y_train)]*len(Y_train), Y_train))\n",
    "err_test = sqrt(mean_squared_error([np.mean(Y_train)]*len(Y_test), Y_test))\n",
    "\n",
    "print(\"Error train:%s\" % err_train)\n",
    "print(\"Error test:%s\" % err_test)"
   ]
  },
  {
   "cell_type": "markdown",
   "metadata": {},
   "source": [
    "# Тип вина"
   ]
  },
  {
   "cell_type": "markdown",
   "metadata": {},
   "source": [
    " На самом деле у нас есть еще какая-то информация, например о типе вина. В нашей выборке примерно 1600 красных вин и 4900 белых. Причем, если мы посмотрим на экспертные оценки отдельно по этим категориям, мы увидим, что они существенно отличаются."
   ]
  },
  {
   "cell_type": "code",
   "execution_count": 26,
   "metadata": {
    "collapsed": false
   },
   "outputs": [
    {
     "data": {
      "text/plain": [
       "Type\n",
       "red      1599\n",
       "white    4898\n",
       "Name: Type, dtype: int64"
      ]
     },
     "execution_count": 26,
     "metadata": {},
     "output_type": "execute_result"
    }
   ],
   "source": [
    "wine.groupby('Type')['Type'].count()"
   ]
  },
  {
   "cell_type": "code",
   "execution_count": 34,
   "metadata": {
    "collapsed": false
   },
   "outputs": [
    {
     "data": {
      "text/plain": [
       "<matplotlib.text.Text at 0xc80df60>"
      ]
     },
     "execution_count": 34,
     "metadata": {},
     "output_type": "execute_result"
    },
    {
     "data": {
      "image/png": "[encoded data removed]",
      "text/plain": [
       "<matplotlib.figure.Figure at 0xc500f28>"
      ]
     },
     "metadata": {},
     "output_type": "display_data"
    }
   ],
   "source": [
    "plt.figure(figsize(16,6))\n",
    "plt.subplot(121)\n",
    "stat_red=wine[wine['Type']==\"red\"].groupby('quality')['quality'].agg(lambda x:float(len(x))/wine[wine['Type'] == 'red'].shape[0])\n",
    "stat_red.plot(kind='bar', fontsize=14, width=0.9, color=\"red\")\n",
    "plt.xticks(rotation=0)\n",
    "plt.ylabel('Proportion', fontsize=14)\n",
    "plt.xlabel('Quality', fontsize=14)\n",
    "\n",
    "plt.subplot(122)\n",
    "stat_white=wine[wine['Type']==\"white\"].groupby('quality')['quality'].agg(lambda x:float(len(x))/wine[wine['Type'] == 'white'].shape[0])\n",
    "stat_white.plot(kind='bar', fontsize=14, width=0.9, color=\"w\")\n",
    "plt.xticks(rotation=0)\n",
    "plt.ylabel('Proportion', fontsize=14)\n",
    "plt.xlabel('Quality', fontsize=14)"
   ]
  },
  {
   "cell_type": "markdown",
   "metadata": {},
   "source": [
    " Так, большая часть белых вин получает оценку в 6 баллов, а большая часть красных — в 5. Нет ни одного красного вина, которое получает оценку 9 баллов. Различие между средними оценками по типам вина статистически значимо, критерий Стьюдента это подтверждает. "
   ]
  },
  {
   "cell_type": "code",
   "execution_count": 36,
   "metadata": {
    "collapsed": false
   },
   "outputs": [
    {
     "data": {
      "text/plain": [
       "4.8880690442018232e-22"
      ]
     },
     "execution_count": 36,
     "metadata": {},
     "output_type": "execute_result"
    }
   ],
   "source": [
    "import statsmodels.stats.api as sm\n",
    "\n",
    "tmeans = sm.CompareMeans(sm.DescrStatsW(wine[wine['Type'] == 'white']['quality']), \n",
    "                         sm.DescrStatsW(wine[wine['Type'] == 'red']['quality']))\n",
    "\n",
    "tmeans.ttest_ind(alternative='two-sided', usevar='pooled', value=0)[1]\n",
    "##95% доверительный интервал для разности средних оценок:"
   ]
  },
  {
   "cell_type": "code",
   "execution_count": 37,
   "metadata": {
    "collapsed": false
   },
   "outputs": [
    {
     "data": {
      "text/plain": [
       "(0.19293009404017963, 0.29084357932805199)"
      ]
     },
     "execution_count": 37,
     "metadata": {},
     "output_type": "execute_result"
    }
   ],
   "source": [
    "tmeans.tconfint_diff(alpha=0.05, alternative='two-sided', usevar='pooled')"
   ]
  },
  {
   "cell_type": "markdown",
   "metadata": {},
   "source": [
    "Чтобы уточнить наши предсказания, мы можем оценку каждого вина предсказывать средним по оценкам вин такого же типа в нашей обучающей выборке."
   ]
  },
  {
   "cell_type": "code",
   "execution_count": 41,
   "metadata": {
    "collapsed": false
   },
   "outputs": [],
   "source": [
    "regressor = LinearRegression()\n",
    "regressor.fit(X_train['Type'].reshape(-1,1), Y_train)\n",
    "\n",
    "y_train_predictions = regressor.predict(X_train['Type'].reshape(-1,1))\n",
    "y_test_predictions = regressor.predict(X_test['Type'].reshape(-1,1))\n"
   ]
  },
  {
   "cell_type": "markdown",
   "metadata": {},
   "source": [
    " Если мы будем так делать, ошибки предсказания немного уменьшатся, а ошибка на обучающей выборке будет составлять 0,86, а на тестовой — 0,88. "
   ]
  },
  {
   "cell_type": "code",
   "execution_count": 42,
   "metadata": {
    "collapsed": false
   },
   "outputs": [
    {
     "name": "stdout",
     "output_type": "stream",
     "text": [
      "Error train:0.868333136276\n",
      "Error test:0.862863542107\n"
     ]
    }
   ],
   "source": [
    "err_train=sqrt(mean_squared_error(y_train_predictions, Y_train))\n",
    "err_test=sqrt(mean_squared_error(y_test_predictions, Y_test))\n",
    "\n",
    "print(\"Error train:%s\" % err_train)\n",
    "print(\"Error test:%s\" % err_test)"
   ]
  },
  {
   "cell_type": "markdown",
   "metadata": {},
   "source": [
    "Вот так выглядят истинные оценки вин и их предсказания средними по типам на тестовой выборке"
   ]
  },
  {
   "cell_type": "code",
   "execution_count": 44,
   "metadata": {
    "collapsed": false
   },
   "outputs": [
    {
     "data": {
      "text/plain": [
       "<matplotlib.text.Text at 0xde510b8>"
      ]
     },
     "execution_count": 44,
     "metadata": {},
     "output_type": "execute_result"
    },
    {
     "data": {
      "image/png": "[encoded data removed]",
      "text/plain": [
       "<matplotlib.figure.Figure at 0xdd66278>"
      ]
     },
     "metadata": {},
     "output_type": "display_data"
    }
   ],
   "source": [
    "pyplot.figure(figsize(8,8))\n",
    "pyplot.scatter(Y_test, y_test_predictions, color=\"red\", alpha=0.1)\n",
    "pyplot.xlim(2.5,9.5)\n",
    "pyplot.ylim(2.5,9.5)\n",
    "plot(range(11), color='black')\n",
    "grid()\n",
    "plt.xlabel('Quality', fontsize=14)\n",
    "plt.ylabel('Estimated quality', fontsize=14)"
   ]
  },
  {
   "cell_type": "markdown",
   "metadata": {},
   "source": [
    "# Другие признаки"
   ]
  },
  {
   "cell_type": "code",
   "execution_count": 49,
   "metadata": {
    "collapsed": false
   },
   "outputs": [
    {
     "data": {
      "text/html": [
       "<div>\n",
       "<table border=\"1\" class=\"dataframe\">\n",
       "  <thead>\n",
       "    <tr style=\"text-align: right;\">\n",
       "      <th></th>\n",
       "      <th>feature name</th>\n",
       "      <th>importance</th>\n",
       "    </tr>\n",
       "  </thead>\n",
       "  <tbody>\n",
       "    <tr>\n",
       "      <th>11</th>\n",
       "      <td>Alcohol (%)</td>\n",
       "      <td>0.275063</td>\n",
       "    </tr>\n",
       "    <tr>\n",
       "      <th>2</th>\n",
       "      <td>Volatile acidity (g/l)</td>\n",
       "      <td>0.129731</td>\n",
       "    </tr>\n",
       "    <tr>\n",
       "      <th>6</th>\n",
       "      <td>Free sulfur dioxide  (mg/l)</td>\n",
       "      <td>0.089060</td>\n",
       "    </tr>\n",
       "    <tr>\n",
       "      <th>10</th>\n",
       "      <td>Sulphates (g/l)</td>\n",
       "      <td>0.076856</td>\n",
       "    </tr>\n",
       "    <tr>\n",
       "      <th>7</th>\n",
       "      <td>Total sulfur dioxide (mg/l)</td>\n",
       "      <td>0.071936</td>\n",
       "    </tr>\n",
       "    <tr>\n",
       "      <th>4</th>\n",
       "      <td>Residual sugar (g/l)</td>\n",
       "      <td>0.067945</td>\n",
       "    </tr>\n",
       "    <tr>\n",
       "      <th>5</th>\n",
       "      <td>Chlorides (g/l)</td>\n",
       "      <td>0.063383</td>\n",
       "    </tr>\n",
       "    <tr>\n",
       "      <th>9</th>\n",
       "      <td>pH</td>\n",
       "      <td>0.062649</td>\n",
       "    </tr>\n",
       "    <tr>\n",
       "      <th>3</th>\n",
       "      <td>Citric acid (g/l)</td>\n",
       "      <td>0.057689</td>\n",
       "    </tr>\n",
       "    <tr>\n",
       "      <th>8</th>\n",
       "      <td>Density (g/cm3)</td>\n",
       "      <td>0.056984</td>\n",
       "    </tr>\n",
       "    <tr>\n",
       "      <th>1</th>\n",
       "      <td>Fixed acidity (g/l)</td>\n",
       "      <td>0.048059</td>\n",
       "    </tr>\n",
       "    <tr>\n",
       "      <th>0</th>\n",
       "      <td>Type</td>\n",
       "      <td>0.000645</td>\n",
       "    </tr>\n",
       "  </tbody>\n",
       "</table>\n",
       "</div>"
      ],
      "text/plain": [
       "                   feature name  importance\n",
       "11                  Alcohol (%)    0.275063\n",
       "2        Volatile acidity (g/l)    0.129731\n",
       "6   Free sulfur dioxide  (mg/l)    0.089060\n",
       "10              Sulphates (g/l)    0.076856\n",
       "7   Total sulfur dioxide (mg/l)    0.071936\n",
       "4          Residual sugar (g/l)    0.067945\n",
       "5               Chlorides (g/l)    0.063383\n",
       "9                            pH    0.062649\n",
       "3             Citric acid (g/l)    0.057689\n",
       "8               Density (g/cm3)    0.056984\n",
       "1           Fixed acidity (g/l)    0.048059\n",
       "0                          Type    0.000645"
      ]
     },
     "execution_count": 49,
     "metadata": {},
     "output_type": "execute_result"
    }
   ],
   "source": [
    "rf = RandomForestRegressor(n_estimators=100, min_samples_leaf=3)\n",
    "rf.fit(X_train, Y_train)\n",
    "\n",
    "importances = pd.DataFrame(zip(X_train.columns, rf.feature_importances_))\n",
    "importances.columns = ['feature name', 'importance']\n",
    "importances.sort_values(by='importance', ascending=False)"
   ]
  },
  {
   "cell_type": "markdown",
   "metadata": {},
   "source": [
    "Cильнее всего на экспертную оценку качества вина влияет содержание алкоголя"
   ]
  }
 ],
 "metadata": {
  "anaconda-cloud": {},
  "kernelspec": {
   "display_name": "Python [Root]",
   "language": "python",
   "name": "Python [Root]"
  },
  "language_info": {
   "codemirror_mode": {
    "name": "ipython",
    "version": 2
   },
   "file_extension": ".py",
   "mimetype": "text/x-python",
   "name": "python",
   "nbconvert_exporter": "python",
   "pygments_lexer": "ipython2",
   "version": "2.7.13"
  }
 },
 "nbformat": 4,
 "nbformat_minor": 0
}
