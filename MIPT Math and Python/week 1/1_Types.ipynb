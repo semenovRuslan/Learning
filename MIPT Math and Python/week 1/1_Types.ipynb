{
 "cells": [
  {
   "cell_type": "code",
   "execution_count": 1,
   "metadata": {
    "collapsed": false
   },
   "outputs": [
    {
     "name": "stdout",
     "output_type": "stream",
     "text": [
      "5\n"
     ]
    }
   ],
   "source": [
    "x=5\n",
    "print x\n",
    "print (type(x))"
   ]
  },
  {
   "cell_type": "markdown",
   "metadata": {},
   "source": [
    "## dinamic type:"
   ]
  },
  {
   "cell_type": "code",
   "execution_count": 5,
   "metadata": {
    "collapsed": false
   },
   "outputs": [
    {
     "name": "stdout",
     "output_type": "stream",
     "text": [
      "<type 'int'>\n",
      "<type 'long'>\n",
      "<type 'float'>\n"
     ]
    }
   ],
   "source": [
    "y=5\n",
    "print(type(y))\n",
    "y=5*1000000*1000000*1000000000\n",
    "print(type(y))\n",
    "y=3.4/3.6\n",
    "print(type(y))"
   ]
  },
  {
   "cell_type": "markdown",
   "metadata": {},
   "source": [
    "# Bool:"
   ]
  },
  {
   "cell_type": "code",
   "execution_count": 6,
   "metadata": {
    "collapsed": false
   },
   "outputs": [
    {
     "name": "stdout",
     "output_type": "stream",
     "text": [
      "1\n",
      "False\n",
      "True\n"
     ]
    }
   ],
   "source": [
    "a=True\n",
    "b=False\n",
    "\n",
    "print a + b\n",
    "print a and b\n",
    "print a or b"
   ]
  },
  {
   "cell_type": "markdown",
   "metadata": {},
   "source": [
    "# None"
   ]
  },
  {
   "cell_type": "code",
   "execution_count": 7,
   "metadata": {
    "collapsed": false
   },
   "outputs": [
    {
     "name": "stdout",
     "output_type": "stream",
     "text": [
      "None\n",
      "<type 'NoneType'>\n"
     ]
    },
    {
     "ename": "TypeError",
     "evalue": "int() argument must be a string or a number, not 'NoneType'",
     "output_type": "error",
     "traceback": [
      "\u001b[1;31m---------------------------------------------------------------------------\u001b[0m",
      "\u001b[1;31mTypeError\u001b[0m                                 Traceback (most recent call last)",
      "\u001b[1;32m<ipython-input-7-ea8405bc026d>\u001b[0m in \u001b[0;36m<module>\u001b[1;34m()\u001b[0m\n\u001b[0;32m      2\u001b[0m \u001b[1;32mprint\u001b[0m \u001b[0mz\u001b[0m\u001b[1;33m\u001b[0m\u001b[0m\n\u001b[0;32m      3\u001b[0m \u001b[1;32mprint\u001b[0m \u001b[1;33m(\u001b[0m\u001b[0mtype\u001b[0m\u001b[1;33m(\u001b[0m\u001b[0mz\u001b[0m\u001b[1;33m)\u001b[0m\u001b[1;33m)\u001b[0m\u001b[1;33m\u001b[0m\u001b[0m\n\u001b[1;32m----> 4\u001b[1;33m \u001b[1;32mprint\u001b[0m \u001b[1;33m(\u001b[0m\u001b[0mint\u001b[0m\u001b[1;33m(\u001b[0m\u001b[0mz\u001b[0m\u001b[1;33m)\u001b[0m\u001b[1;33m)\u001b[0m\u001b[1;33m\u001b[0m\u001b[0m\n\u001b[0m",
      "\u001b[1;31mTypeError\u001b[0m: int() argument must be a string or a number, not 'NoneType'"
     ]
    }
   ],
   "source": [
    "z=None\n",
    "print z\n",
    "print (type(z))\n",
    "print (int(z))"
   ]
  },
  {
   "cell_type": "markdown",
   "metadata": {},
   "source": [
    "# String"
   ]
  },
  {
   "cell_type": "code",
   "execution_count": 28,
   "metadata": {
    "collapsed": false
   },
   "outputs": [
    {
     "name": "stdout",
     "output_type": "stream",
     "text": [
      "Ivan Ivanov\n",
      "IVAN\n",
      "ivan\n",
      "И\n",
      "4\n",
      "True\n",
      "False\n",
      "Iva\n",
      "Ia\n"
     ]
    }
   ],
   "source": [
    "a='Ivan'\n",
    "b='Ivanov'\n",
    "s= a+ ' ' + b\n",
    "print s\n",
    "print a.upper()\n",
    "print a.lower()\n",
    "print (\"\\xd0\\x98\")#ascii for И\n",
    "print len(a)\n",
    "print bool(a)\n",
    "print bool('')\n",
    "print (a[0:3])\n",
    "print (a[0:4:2])##с 0 по 4 с шагом 2"
   ]
  },
  {
   "cell_type": "code",
   "execution_count": 22,
   "metadata": {
    "collapsed": false
   },
   "outputs": [
    {
     "name": "stdout",
     "output_type": "stream",
     "text": [
      "Элеонора Михайловна <type 'unicode'>\n",
      "Элеонора Михайловна <type 'str'>\n",
      "Элеонора Михайловна <type 'unicode'>\n",
      "Р­Р»РµРѕРЅРѕСЂР° РњРёС…Р°Р№Р»РѕРІРЅР° <type 'unicode'>\n"
     ]
    }
   ],
   "source": [
    "x=u'Элеонора Михайловна'\n",
    "print x,  type(x)\n",
    "xUTF=x.encode('utf-8')\n",
    "print xUTF,  type(xUTF)\n",
    "y=xUTF.decode('utf-8')\n",
    "print y,  type(y)\n",
    "z=xUTF.decode('cp1251')\n",
    "print z,  type(z)\n"
   ]
  },
  {
   "cell_type": "markdown",
   "metadata": {},
   "source": [
    "Difference in length STR and UNICODE:"
   ]
  },
  {
   "cell_type": "code",
   "execution_count": 26,
   "metadata": {
    "collapsed": false
   },
   "outputs": [
    {
     "name": "stdout",
     "output_type": "stream",
     "text": [
      "�леонора Михайловна\n",
      "леонора Михайловна\n",
      "37 <type 'str'>\n",
      "19 <type 'unicode'>\n"
     ]
    }
   ],
   "source": [
    "##unicode имеет 2 разряда вот почему половинка символа смотрится глупо\n",
    "print (xUTF[1:])\n",
    "print (x[1:])\n",
    "##длина\n",
    "print len(xUTF), type(xUTF)\n",
    "print len(x), type(x)"
   ]
  },
  {
   "cell_type": "code",
   "execution_count": 29,
   "metadata": {
    "collapsed": false
   },
   "outputs": [
    {
     "name": "stdout",
     "output_type": "stream",
     "text": [
      "['Ivanov', 'Ivan', 'Ivanovich']\n",
      "<type 'list'>\n"
     ]
    }
   ],
   "source": [
    "splitted_line = 'Ivanov Ivan Ivanovich'.split(\" \")\n",
    "print (splitted_line)\n",
    "print (type(splitted_line))"
   ]
  },
  {
   "cell_type": "markdown",
   "metadata": {},
   "source": [
    "# ARRAY"
   ]
  },
  {
   "cell_type": "markdown",
   "metadata": {},
   "source": [
    "## list:"
   ]
  },
  {
   "cell_type": "code",
   "execution_count": 44,
   "metadata": {
    "collapsed": false
   },
   "outputs": [
    {
     "name": "stdout",
     "output_type": "stream",
     "text": [
      "<type 'list'>\n",
      "Высокий >< Средний >< Низкий\n",
      "['Ivanov Ivan', 'medium', 50000, 12, True]\n",
      "50000\n",
      "['Ivanov Ivan', 'medium', 50000]\n",
      "['Ivanov Ivan', 'medium', 50000, 12, True, 'New item']\n",
      "['Ivanov Ivan', 'medium', 50000, 12, 'New item']\n"
     ]
    }
   ],
   "source": [
    "income = ['Высокий', 'Средний', 'Низкий']\n",
    "print type (income)\n",
    "print \" >< \".join(income)\n",
    "\n",
    "features=['Ivanov Ivan', 'medium', 50000, 12, True]\n",
    "print features\n",
    "print features[2]\n",
    "print features[:-2]##- означает движение справа на лево \n",
    "\n",
    "features.append('New item')\n",
    "print features\n",
    "\n",
    "del features[-2]\n",
    "print features"
   ]
  },
  {
   "cell_type": "markdown",
   "metadata": {},
   "source": [
    "## tuple"
   ]
  },
  {
   "cell_type": "code",
   "execution_count": 47,
   "metadata": {
    "collapsed": false
   },
   "outputs": [
    {
     "name": "stdout",
     "output_type": "stream",
     "text": [
      "<type 'tuple'>\n",
      "Низкий\n"
     ]
    }
   ],
   "source": [
    "income = ('Высокий', 'Средний', 'Низкий')\n",
    "print type (income)\n",
    "print income[2]"
   ]
  },
  {
   "cell_type": "markdown",
   "metadata": {},
   "source": [
    "# Множества и словари"
   ]
  },
  {
   "cell_type": "markdown",
   "metadata": {},
   "source": [
    "## set"
   ]
  },
  {
   "cell_type": "code",
   "execution_count": 48,
   "metadata": {
    "collapsed": false
   },
   "outputs": [
    {
     "name": "stdout",
     "output_type": "stream",
     "text": [
      "<type 'set'>\n"
     ]
    }
   ],
   "source": [
    "names = {'Petr', 'Konstantin', 'Ivan'}\n",
    "print (type(names))"
   ]
  },
  {
   "cell_type": "code",
   "execution_count": 61,
   "metadata": {
    "collapsed": false
   },
   "outputs": [
    {
     "name": "stdout",
     "output_type": "stream",
     "text": [
      "True\n",
      "False\n",
      "set(['Ivan', 'Kony', 'Konstantin', ('Victor', 'Sergeevich'), 'Petr'])\n",
      "True\n",
      "set(['Ivan', 'Konstantin', ('Victor', 'Sergeevich'), 'Petr'])\n"
     ]
    }
   ],
   "source": [
    "print 'Ivan'  in names\n",
    "print 'Kony'  in names\n",
    "\n",
    "names.add('Kony')  ##при добавлении 2 жды одного элемента \n",
    "names.add('Kony')  ##он добавится 1 раз/ДУБЛЕКАТОВ НЕ БУДЕТ!!! \n",
    "print (names)\n",
    "\n",
    "print 'Kony'  in names\n",
    "names.remove('Kony')\n",
    "\n",
    "#names.add(['Victor', 'Sergeevich'])#list - fauilt\n",
    "names.add(('Victor', 'Sergeevich'))#tuple - success\n",
    "print (names)"
   ]
  },
  {
   "cell_type": "code",
   "execution_count": 67,
   "metadata": {
    "collapsed": false
   },
   "outputs": [
    {
     "name": "stdout",
     "output_type": "stream",
     "text": [
      "[0, 1, 2, 3, 4]\n",
      "[9999995, 9999996, 9999997, 9999998, 9999999]\n"
     ]
    }
   ],
   "source": [
    "a= range(10000000)   ##list\n",
    "b= set(a)         ##set\n",
    "\n",
    "print a[:5]\n",
    "print a[-5:]"
   ]
  },
  {
   "cell_type": "markdown",
   "metadata": {},
   "source": [
    "differ in timing in \"list\" and \"set\" "
   ]
  },
  {
   "cell_type": "code",
   "execution_count": 68,
   "metadata": {
    "collapsed": false
   },
   "outputs": [
    {
     "name": "stdout",
     "output_type": "stream",
     "text": [
      "True\n",
      "Wall time: 47 ms\n"
     ]
    }
   ],
   "source": [
    "%%time\n",
    "print 999999 in a"
   ]
  },
  {
   "cell_type": "code",
   "execution_count": 69,
   "metadata": {
    "collapsed": false
   },
   "outputs": [
    {
     "name": "stdout",
     "output_type": "stream",
     "text": [
      "True\n",
      "Wall time: 1e+03 µs\n"
     ]
    }
   ],
   "source": [
    "%%time\n",
    "print 999999 in b"
   ]
  },
  {
   "cell_type": "markdown",
   "metadata": {},
   "source": [
    "# dict"
   ]
  },
  {
   "cell_type": "markdown",
   "metadata": {},
   "source": [
    "Словари необходимы для сопоставления к примеру для каждого слова получать его частоту в каком либо тексте"
   ]
  },
  {
   "cell_type": "code",
   "execution_count": 73,
   "metadata": {
    "collapsed": false
   },
   "outputs": [
    {
     "name": "stdout",
     "output_type": "stream",
     "text": [
      "{'I': 2, 'am': 1}\n",
      "2\n"
     ]
    }
   ],
   "source": [
    "word_frequencies = dict()\n",
    "word_frequencies['I']=1\n",
    "word_frequencies['am']=1\n",
    "word_frequencies['I']+=1\n",
    "\n",
    "print word_frequencies\n",
    "print word_frequencies['I']"
   ]
  },
  {
   "cell_type": "code",
   "execution_count": 74,
   "metadata": {
    "collapsed": false
   },
   "outputs": [
    {
     "name": "stdout",
     "output_type": "stream",
     "text": [
      "{u'123': None, 'abc': 2, 5: 7.8}\n"
     ]
    }
   ],
   "source": [
    "yet_another_dic={'abc':2, 5:7.8, u'123':None}\n",
    "print yet_another_dic"
   ]
  },
  {
   "cell_type": "code",
   "execution_count": 76,
   "metadata": {
    "collapsed": false
   },
   "outputs": [
    {
     "name": "stdout",
     "output_type": "stream",
     "text": [
      "{u'123': None, 'abc': 2, 5: 7.8, (1, 2, 5): [4, 5, 7]}\n"
     ]
    }
   ],
   "source": [
    "yet_another_dic[(1,2,5)]=[4,5,7]\n",
    "print yet_another_dic"
   ]
  },
  {
   "cell_type": "code",
   "execution_count": null,
   "metadata": {
    "collapsed": true
   },
   "outputs": [],
   "source": []
  }
 ],
 "metadata": {
  "anaconda-cloud": {},
  "kernelspec": {
   "display_name": "Python [Root]",
   "language": "python",
   "name": "Python [Root]"
  },
  "language_info": {
   "codemirror_mode": {
    "name": "ipython",
    "version": 2
   },
   "file_extension": ".py",
   "mimetype": "text/x-python",
   "name": "python",
   "nbconvert_exporter": "python",
   "pygments_lexer": "ipython2",
   "version": "2.7.13"
  }
 },
 "nbformat": 4,
 "nbformat_minor": 0
}
