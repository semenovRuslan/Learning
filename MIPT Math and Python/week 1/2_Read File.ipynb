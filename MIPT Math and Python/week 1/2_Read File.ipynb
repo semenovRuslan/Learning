{
 "cells": [
  {
   "cell_type": "markdown",
   "metadata": {},
   "source": [
    "# Read data from File"
   ]
  },
  {
   "cell_type": "code",
   "execution_count": 1,
   "metadata": {
    "collapsed": true
   },
   "outputs": [],
   "source": [
    "?open  #help information about function"
   ]
  },
  {
   "cell_type": "code",
   "execution_count": 1,
   "metadata": {
    "collapsed": false
   },
   "outputs": [
    {
     "data": {
      "text/plain": [
       "file"
      ]
     },
     "execution_count": 1,
     "metadata": {},
     "output_type": "execute_result"
    }
   ],
   "source": [
    "file_obj=open('testFile.txt', 'r')\n",
    "type(file_obj)"
   ]
  },
  {
   "cell_type": "code",
   "execution_count": 2,
   "metadata": {
    "collapsed": false
   },
   "outputs": [
    {
     "name": "stdout",
     "output_type": "stream",
     "text": [
      "Привет мир!!!\n",
      "Текстовый файл\n",
      "Длиный и очень умный\n"
     ]
    }
   ],
   "source": [
    "print(file_obj.read())"
   ]
  },
  {
   "cell_type": "code",
   "execution_count": 9,
   "metadata": {
    "collapsed": false
   },
   "outputs": [
    {
     "name": "stdout",
     "output_type": "stream",
     "text": [
      "Привет мир!!!\n",
      "\n"
     ]
    }
   ],
   "source": [
    "#для огромных файлов можно читьать построкам\n",
    "file_obj=open('testFile.txt', 'r')\n",
    "print (file_obj.readline())\n"
   ]
  },
  {
   "cell_type": "code",
   "execution_count": 15,
   "metadata": {
    "collapsed": false
   },
   "outputs": [
    {
     "name": "stdout",
     "output_type": "stream",
     "text": [
      "Привет мир!!!\n",
      "Текстовый файл\n",
      "Длиный и очень умный\n"
     ]
    }
   ],
   "source": [
    "file_obj=open('testFile.txt', 'r')\n",
    "for line in file_obj:\n",
    "    print (line.strip())  # strip отрезает от конца строки пробелы"
   ]
  },
  {
   "cell_type": "code",
   "execution_count": 22,
   "metadata": {
    "collapsed": false
   },
   "outputs": [
    {
     "name": "stdout",
     "output_type": "stream",
     "text": [
      "Текстовый файл\n",
      "\n",
      "Привет мир!!!\n",
      "Текстовый файл\n",
      "Длиный и очень умный\n"
     ]
    }
   ],
   "source": [
    "file_obj=open('testFile.txt', 'r')\n",
    "data_list=list(file_obj)\n",
    "print data_list[1]# вывод 2 го эл-та\n",
    "#перебор элтов\n",
    "for line in data_list:print line.strip()\n",
    "    \n",
    "file_obj.close()  #release resource"
   ]
  },
  {
   "cell_type": "markdown",
   "metadata": {},
   "source": [
    "# Codecs"
   ]
  },
  {
   "cell_type": "code",
   "execution_count": 23,
   "metadata": {
    "collapsed": true
   },
   "outputs": [],
   "source": [
    "import codecs"
   ]
  },
  {
   "cell_type": "code",
   "execution_count": 26,
   "metadata": {
    "collapsed": false
   },
   "outputs": [
    {
     "name": "stdout",
     "output_type": "stream",
     "text": [
      "п÷я─п╦п╡п╣я┌ п╪п╦я─!!!\n",
      "п╒п╣п╨я│я┌п╬п╡я▀п╧ я└п╟п╧п╩\n",
      "п■п╩п╦п╫я▀п╧ п╦ п╬я┤п╣п╫я▄ я┐п╪п╫я▀п╧\n"
     ]
    }
   ],
   "source": [
    "file_obj=codecs.open('testFile.txt', 'r', encoding='koi8-r')\n",
    "print (file_obj.read())"
   ]
  },
  {
   "cell_type": "code",
   "execution_count": null,
   "metadata": {
    "collapsed": true
   },
   "outputs": [],
   "source": []
  }
 ],
 "metadata": {
  "anaconda-cloud": {},
  "kernelspec": {
   "display_name": "Python [Root]",
   "language": "python",
   "name": "Python [Root]"
  },
  "language_info": {
   "codemirror_mode": {
    "name": "ipython",
    "version": 2
   },
   "file_extension": ".py",
   "mimetype": "text/x-python",
   "name": "python",
   "nbconvert_exporter": "python",
   "pygments_lexer": "ipython2",
   "version": "2.7.13"
  }
 },
 "nbformat": 4,
 "nbformat_minor": 0
}
