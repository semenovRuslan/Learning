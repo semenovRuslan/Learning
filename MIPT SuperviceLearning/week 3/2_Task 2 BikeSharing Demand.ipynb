{
 "cells": [
  {
   "cell_type": "markdown",
   "metadata": {},
   "source": [
    "# Задача Bike Sharing Demand 2 попытка"
   ]
  },
  {
   "cell_type": "markdown",
   "metadata": {},
   "source": [
    "** Первая часть задачи потерпела неудачу - модель вышла не очень точной. Пробуем снова опираясь на первой части!!!***\n",
    "\n",
    "\n",
    "Задача на kaggle: https://www.kaggle.com/c/bike-sharing-demand\n",
    "\n",
    "По историческим данным о прокате велосипедов и погодным условиям необходимо оценить спрос на прокат велосипедов.\n",
    "\n",
    "В исходной постановке задачи доступно 11 признаков: https://www.kaggle.com/c/prudential-life-insurance-assessment/data\n",
    "\n",
    "В наборе признаков присутсвуют вещественные, категориальные, и бинарные данные. \n",
    "\n",
    "Для демонстрации используется обучающая выборка из исходных данных train.csv, файлы для работы прилагаются."
   ]
  },
  {
   "cell_type": "code",
   "execution_count": 19,
   "metadata": {
    "collapsed": false
   },
   "outputs": [],
   "source": [
    "from sklearn import cross_validation, grid_search, linear_model, metrics \n",
    "from sklearn import pipeline, preprocessing\n",
    "\n",
    "import numpy as np\n",
    "import pandas as pd"
   ]
  },
  {
   "cell_type": "code",
   "execution_count": 2,
   "metadata": {
    "collapsed": false
   },
   "outputs": [
    {
     "name": "stdout",
     "output_type": "stream",
     "text": [
      "Populating the interactive namespace from numpy and matplotlib\n"
     ]
    }
   ],
   "source": [
    "%pylab inline"
   ]
  },
  {
   "cell_type": "markdown",
   "metadata": {},
   "source": [
    "**1. Загрузка данных**"
   ]
  },
  {
   "cell_type": "code",
   "execution_count": 3,
   "metadata": {
    "collapsed": false
   },
   "outputs": [
    {
     "data": {
      "text/html": [
       "<div>\n",
       "<table border=\"1\" class=\"dataframe\">\n",
       "  <thead>\n",
       "    <tr style=\"text-align: right;\">\n",
       "      <th></th>\n",
       "      <th>datetime</th>\n",
       "      <th>season</th>\n",
       "      <th>holiday</th>\n",
       "      <th>workingday</th>\n",
       "      <th>weather</th>\n",
       "      <th>temp</th>\n",
       "      <th>atemp</th>\n",
       "      <th>humidity</th>\n",
       "      <th>windspeed</th>\n",
       "      <th>casual</th>\n",
       "      <th>registered</th>\n",
       "      <th>count</th>\n",
       "    </tr>\n",
       "  </thead>\n",
       "  <tbody>\n",
       "    <tr>\n",
       "      <th>0</th>\n",
       "      <td>2011-01-01 00:00:00</td>\n",
       "      <td>1</td>\n",
       "      <td>0</td>\n",
       "      <td>0</td>\n",
       "      <td>1</td>\n",
       "      <td>9.84</td>\n",
       "      <td>14.395</td>\n",
       "      <td>81</td>\n",
       "      <td>0.0</td>\n",
       "      <td>3</td>\n",
       "      <td>13</td>\n",
       "      <td>16</td>\n",
       "    </tr>\n",
       "    <tr>\n",
       "      <th>1</th>\n",
       "      <td>2011-01-01 01:00:00</td>\n",
       "      <td>1</td>\n",
       "      <td>0</td>\n",
       "      <td>0</td>\n",
       "      <td>1</td>\n",
       "      <td>9.02</td>\n",
       "      <td>13.635</td>\n",
       "      <td>80</td>\n",
       "      <td>0.0</td>\n",
       "      <td>8</td>\n",
       "      <td>32</td>\n",
       "      <td>40</td>\n",
       "    </tr>\n",
       "    <tr>\n",
       "      <th>2</th>\n",
       "      <td>2011-01-01 02:00:00</td>\n",
       "      <td>1</td>\n",
       "      <td>0</td>\n",
       "      <td>0</td>\n",
       "      <td>1</td>\n",
       "      <td>9.02</td>\n",
       "      <td>13.635</td>\n",
       "      <td>80</td>\n",
       "      <td>0.0</td>\n",
       "      <td>5</td>\n",
       "      <td>27</td>\n",
       "      <td>32</td>\n",
       "    </tr>\n",
       "    <tr>\n",
       "      <th>3</th>\n",
       "      <td>2011-01-01 03:00:00</td>\n",
       "      <td>1</td>\n",
       "      <td>0</td>\n",
       "      <td>0</td>\n",
       "      <td>1</td>\n",
       "      <td>9.84</td>\n",
       "      <td>14.395</td>\n",
       "      <td>75</td>\n",
       "      <td>0.0</td>\n",
       "      <td>3</td>\n",
       "      <td>10</td>\n",
       "      <td>13</td>\n",
       "    </tr>\n",
       "    <tr>\n",
       "      <th>4</th>\n",
       "      <td>2011-01-01 04:00:00</td>\n",
       "      <td>1</td>\n",
       "      <td>0</td>\n",
       "      <td>0</td>\n",
       "      <td>1</td>\n",
       "      <td>9.84</td>\n",
       "      <td>14.395</td>\n",
       "      <td>75</td>\n",
       "      <td>0.0</td>\n",
       "      <td>0</td>\n",
       "      <td>1</td>\n",
       "      <td>1</td>\n",
       "    </tr>\n",
       "  </tbody>\n",
       "</table>\n",
       "</div>"
      ],
      "text/plain": [
       "              datetime  season  holiday  workingday  weather  temp   atemp  \\\n",
       "0  2011-01-01 00:00:00       1        0           0        1  9.84  14.395   \n",
       "1  2011-01-01 01:00:00       1        0           0        1  9.02  13.635   \n",
       "2  2011-01-01 02:00:00       1        0           0        1  9.02  13.635   \n",
       "3  2011-01-01 03:00:00       1        0           0        1  9.84  14.395   \n",
       "4  2011-01-01 04:00:00       1        0           0        1  9.84  14.395   \n",
       "\n",
       "   humidity  windspeed  casual  registered  count  \n",
       "0        81        0.0       3          13     16  \n",
       "1        80        0.0       8          32     40  \n",
       "2        80        0.0       5          27     32  \n",
       "3        75        0.0       3          10     13  \n",
       "4        75        0.0       0           1      1  "
      ]
     },
     "execution_count": 3,
     "metadata": {},
     "output_type": "execute_result"
    }
   ],
   "source": [
    "# Фактически данные представлены в виде матрицы \"Объект - признак\" \n",
    "# поэтому нам будет удобнее работать с ними как с dataframe:\n",
    "raw_data=pd.read_csv('bike_sharing_demand.csv', header=0, sep=',')\n",
    "raw_data.head()"
   ]
  },
  {
   "cell_type": "markdown",
   "metadata": {},
   "source": [
    "***datetime*** - hourly date + timestamp  \n",
    "\n",
    "***season*** -  1 = spring, 2 = summer, 3 = fall, 4 = winter \n",
    "\n",
    "***holiday*** - whether the day is considered a holiday\n",
    "\n",
    "***workingday*** - whether the day is neither a weekend nor holiday\n",
    "\n",
    "***weather*** - 1: Clear, Few clouds, Partly cloudy, Partly cloudy\n",
    "2: Mist + Cloudy, Mist + Broken clouds, Mist + Few clouds, Mist\n",
    "3: Light Snow, Light Rain + Thunderstorm + Scattered clouds, Light Rain + Scattered clouds\n",
    "4: Heavy Rain + Ice Pallets + Thunderstorm + Mist, Snow + Fog \n",
    "    \n",
    "***temp*** - temperature in Celsius\n",
    "\n",
    "***atemp*** - \"feels like\" temperature in Celsius\n",
    "\n",
    "***humidity*** - relative humidity\n",
    "\n",
    "***windspeed*** - wind speed\n",
    "\n",
    "***casual*** - number of non-registered user rentals initiated\n",
    "\n",
    "***registered*** - number of registered user rentals initiated\n",
    "\n",
    "***count*** - number of total rentals"
   ]
  },
  {
   "cell_type": "code",
   "execution_count": 4,
   "metadata": {
    "collapsed": false
   },
   "outputs": [
    {
     "name": "stdout",
     "output_type": "stream",
     "text": [
      "(10886, 12)\n"
     ]
    },
    {
     "data": {
      "text/plain": [
       "False"
      ]
     },
     "execution_count": 4,
     "metadata": {},
     "output_type": "execute_result"
    }
   ],
   "source": [
    "# смотрим размер наших данных\n",
    "print raw_data.shape\n",
    "# смотрим есть ли тут пропущенные значения если они есть надо думать как их обработать\n",
    "raw_data.isnull().values.any()"
   ]
  },
  {
   "cell_type": "markdown",
   "metadata": {},
   "source": [
    "**2. Предобработка данных**"
   ]
  },
  {
   "cell_type": "code",
   "execution_count": 5,
   "metadata": {
    "collapsed": false
   },
   "outputs": [],
   "source": [
    "#для того чтобы использовать все функции доступные для datetime преобразуем object:\n",
    "# и потом  добавим новых 2 признака:\n",
    "# 1. месяц\n",
    "# 2. час\n",
    "\n",
    "raw_data.datetime=raw_data.datetime.apply(pd.to_datetime)\n",
    "\n",
    "raw_data['month']=raw_data.datetime.apply(lambda x: x.month)\n",
    "raw_data['hour']=raw_data.datetime.apply(lambda x: x.hour)"
   ]
  },
  {
   "cell_type": "code",
   "execution_count": 6,
   "metadata": {
    "collapsed": true
   },
   "outputs": [],
   "source": [
    "# Потом разделим наши данные и по логике наши данные привязаны ко времени\n",
    "# мы знаем день и час на которые мы хотим их оценить в этом случае \n",
    "# удобнее разбить данные по времени. Итак будем строить модель данных на данных \n",
    "# за более ранний период и оценивать ее качество на данных за более поздний период\n",
    "# отправим последние данные в отложенный dataset\n",
    "train_data=raw_data.iloc[:-1000, :]\n",
    "hold_out_test_data=raw_data.iloc[-1000:, :]"
   ]
  },
  {
   "cell_type": "code",
   "execution_count": 7,
   "metadata": {
    "collapsed": false
   },
   "outputs": [
    {
     "name": "stdout",
     "output_type": "stream",
     "text": [
      "(10886, 14) (9886, 14) (1000, 14)\n"
     ]
    }
   ],
   "source": [
    "# посмотрим полученные объекты:\n",
    "print raw_data.shape, train_data.shape, hold_out_test_data.shape"
   ]
  },
  {
   "cell_type": "code",
   "execution_count": 8,
   "metadata": {
    "collapsed": true
   },
   "outputs": [],
   "source": [
    "#Обработаем тренировочные данные для этого \n",
    "# 1. вырезаем цель в label\n",
    "# 2. убираем datetime т.к. фактически это уже идентификатор объекта \n",
    "# 3. вырезаем столбцы 'casual', 'registered' в сумме дают значение цели (см.1 часть)\n",
    "\n",
    "train_label=train_data['count'].values\n",
    "train_data=train_data.drop(['datetime', 'count', 'casual', 'registered'], axis=1)"
   ]
  },
  {
   "cell_type": "code",
   "execution_count": 9,
   "metadata": {
    "collapsed": true
   },
   "outputs": [],
   "source": [
    "#Обработаем тестовые данные для этого \n",
    "# 1. вырезаем цель в label\n",
    "# 2. убираем datetime т.к. фактически это уже идентификатор объекта\n",
    "test_label = hold_out_test_data['count'].values\n",
    "test_data = hold_out_test_data.drop(['datetime', 'count', 'casual', 'registered'], axis=1)"
   ]
  },
  {
   "cell_type": "markdown",
   "metadata": {},
   "source": [
    "** Тут начинается отличие от предидущей модели где данные имели только численный тип\n",
    "теперь же мы хотим обработать все признаки**\n",
    "Но если данные отличаются по типам то и методы обработки должны будут отличаться поймем где находяться в тестовых данных данные какого типа"
   ]
  },
  {
   "cell_type": "code",
   "execution_count": 10,
   "metadata": {
    "collapsed": false
   },
   "outputs": [
    {
     "name": "stdout",
     "output_type": "stream",
     "text": [
      "['holiday', 'workingday']\n",
      "[False  True  True False False False False False False False]\n"
     ]
    }
   ],
   "source": [
    "# firstly take a \"boolean\" columns in our array\n",
    "# find out INDEXES of this columns. \n",
    "# \"holiday\" & \"workingday\" are BOOLEAN\n",
    "binary_data_columns=[\"holiday\", \"workingday\"]\n",
    "binary_data_indeces=np.array([(column in binary_data_columns) for column in train_data.columns], dtype=bool)\n",
    "print binary_data_columns \n",
    "print binary_data_indeces"
   ]
  },
  {
   "cell_type": "code",
   "execution_count": 11,
   "metadata": {
    "collapsed": false
   },
   "outputs": [
    {
     "name": "stdout",
     "output_type": "stream",
     "text": [
      "['season', 'weather', 'month']\n",
      "[ True False False  True False False False False  True False]\n"
     ]
    }
   ],
   "source": [
    "# secondary take a \"categorical\" columns in our array\n",
    "# find out INDEXES of this columns. \n",
    "# \"season\", \"weather\", \"month\" are BOOLEAN\n",
    "categorical_data_columns=[\"season\", \"weather\", \"month\"]\n",
    "categorical_data_indeces=np.array([(column in categorical_data_columns) for column in train_data.columns], dtype=bool)\n",
    "print categorical_data_columns \n",
    "print categorical_data_indeces"
   ]
  },
  {
   "cell_type": "code",
   "execution_count": 12,
   "metadata": {
    "collapsed": false
   },
   "outputs": [
    {
     "name": "stdout",
     "output_type": "stream",
     "text": [
      "['temp', 'atemp', 'humidity', 'windspeed', 'hour']\n",
      "[False False False False  True  True  True  True False  True]\n"
     ]
    }
   ],
   "source": [
    "# Then take a \"numeric\" columns in our array\n",
    "# find out INDEXES of this columns. \n",
    "# \"season\", \"weather\", \"month\" are BOOLEAN\n",
    "numeric_data_columns=[\"temp\", \"atemp\", \"humidity\", \"windspeed\", \"hour\"]\n",
    "numeric_data_indeces=np.array([(column in numeric_data_columns) for column in train_data.columns], dtype=bool)\n",
    "print numeric_data_columns \n",
    "print numeric_data_indeces"
   ]
  },
  {
   "cell_type": "markdown",
   "metadata": {},
   "source": [
    "** 3. Построим Pipeline **"
   ]
  },
  {
   "cell_type": "code",
   "execution_count": 13,
   "metadata": {
    "collapsed": true
   },
   "outputs": [],
   "source": [
    "#построим модель при этом возьмем те параметры которые\n",
    "# мы уже подобрали в прошлую попытку как оптимальные при наших данных\n",
    "# {'regression__n_iter': 3, 'regression__loss': 'squared_loss', \n",
    "# 'scaling__with_mean': 0, 'regression__alpha': 0.01, \n",
    "# 'regression__penalty': 'l2'}\n",
    "\n",
    "regressor = linear_model.SGDRegressor(random_state=0\n",
    "                                         , n_iter=3\n",
    "                                         , loss='squared_loss'\n",
    "                                         , penalty='l2')"
   ]
  },
  {
   "cell_type": "code",
   "execution_count": 32,
   "metadata": {
    "collapsed": false
   },
   "outputs": [],
   "source": [
    "#теперь построим Pipeline. Эта цепь будет несколько сложнее:\n",
    "# сначала разбить даные по типам проработать а \n",
    "# затем нужно соединить в некотором порядке(FeatureUnion) \n",
    "\n",
    "\n",
    "estimator = pipeline.Pipeline(steps = [\n",
    "        ('feature_processing', pipeline.FeatureUnion(transformer_list=[\n",
    "        #binary устраивает нас в этом же виде\n",
    "        ('binary_variables_processing', preprocessing.FunctionTransformer(lambda data: data[:, binary_data_indeces])),\n",
    "        #numeric тут сначала отделим затем масштабируем\n",
    "        ('numeric_variables_processing', pipeline.Pipeline(steps=[\n",
    "                  ('selecting', preprocessing.FunctionTransformer(lambda data: data[:, numeric_data_indeces])),\n",
    "                  ('scaling', preprocessing.StandardScaler(with_mean = 0.)) \n",
    "                            ])),\n",
    "        #categorical тут отделим затем преобразовываем в нумерический вид наши категории (hot_encoding) \n",
    "        ('categorical_variables_processing', pipeline.Pipeline(steps =[\n",
    "                  ('selecting', preprocessing.FunctionTransformer(lambda data: data[:, categorical_data_indeces])),\n",
    "                  ('hot_encoding', preprocessing.OneHotEncoder(handle_unknown = 'ignore'))   \n",
    "                            ]))\n",
    "          ])),\n",
    "        ('model_fitting', regressor)])\n"
   ]
  },
  {
   "cell_type": "code",
   "execution_count": 33,
   "metadata": {
    "collapsed": false
   },
   "outputs": [
    {
     "data": {
      "text/plain": [
       "Pipeline(steps=[('feature_processing', FeatureUnion(n_jobs=1,\n",
       "       transformer_list=[('binary_variables_processing', FunctionTransformer(accept_sparse=False,\n",
       "          func=<function <lambda> at 0x000000000B800128>, pass_y=False,\n",
       "          validate=True)), ('numeric_variables_processing', Pipeline(steps=[(...r=3, penalty='l2', power_t=0.25,\n",
       "       random_state=0, shuffle=True, verbose=0, warm_start=False))])"
      ]
     },
     "execution_count": 33,
     "metadata": {},
     "output_type": "execute_result"
    }
   ],
   "source": [
    "#обучаем\n",
    "estimator.fit(train_data, train_label)"
   ]
  },
  {
   "cell_type": "code",
   "execution_count": 35,
   "metadata": {
    "collapsed": false
   },
   "outputs": [
    {
     "data": {
      "text/plain": [
       "120.17177172806858"
      ]
     },
     "execution_count": 35,
     "metadata": {},
     "output_type": "execute_result"
    }
   ],
   "source": [
    "#оценим качество\n",
    "metrics.mean_absolute_error(test_label, estimator.predict(test_data))\n",
    "#ранее было 119.98978845935379\n",
    "# значит преобразование не дало существенного результата"
   ]
  },
  {
   "cell_type": "markdown",
   "metadata": {},
   "source": [
    "** 4.Подбор параметров **"
   ]
  },
  {
   "cell_type": "code",
   "execution_count": 36,
   "metadata": {
    "collapsed": true
   },
   "outputs": [
    {
     "data": {
      "text/plain": [
       "['feature_processing__binary_variables_processing__pass_y',\n",
       " 'feature_processing__binary_variables_processing__func',\n",
       " 'model_fitting__learning_rate',\n",
       " 'feature_processing__n_jobs',\n",
       " 'feature_processing__numeric_variables_processing__selecting',\n",
       " 'feature_processing__numeric_variables_processing__scaling__with_std',\n",
       " 'feature_processing__categorical_variables_processing__selecting__pass_y',\n",
       " 'feature_processing__transformer_weights',\n",
       " 'feature_processing__transformer_list',\n",
       " 'model_fitting__fit_intercept',\n",
       " 'feature_processing',\n",
       " 'feature_processing__categorical_variables_processing__hot_encoding__handle_unknown',\n",
       " 'model_fitting__l1_ratio',\n",
       " 'feature_processing__categorical_variables_processing__selecting__validate',\n",
       " 'feature_processing__categorical_variables_processing__hot_encoding__n_values',\n",
       " 'feature_processing__numeric_variables_processing__steps',\n",
       " 'model_fitting__warm_start',\n",
       " 'model_fitting__random_state',\n",
       " 'feature_processing__categorical_variables_processing__hot_encoding__sparse',\n",
       " 'feature_processing__numeric_variables_processing__selecting__accept_sparse',\n",
       " 'feature_processing__categorical_variables_processing__selecting__func',\n",
       " 'model_fitting__epsilon',\n",
       " 'feature_processing__numeric_variables_processing__selecting__func',\n",
       " 'feature_processing__binary_variables_processing__validate',\n",
       " 'feature_processing__categorical_variables_processing',\n",
       " 'feature_processing__numeric_variables_processing__selecting__pass_y',\n",
       " 'model_fitting__verbose',\n",
       " 'feature_processing__numeric_variables_processing__selecting__validate',\n",
       " 'model_fitting__penalty',\n",
       " 'feature_processing__categorical_variables_processing__steps',\n",
       " 'feature_processing__numeric_variables_processing',\n",
       " 'model_fitting__eta0',\n",
       " 'feature_processing__numeric_variables_processing__scaling',\n",
       " 'model_fitting__average',\n",
       " 'feature_processing__categorical_variables_processing__selecting__accept_sparse',\n",
       " 'feature_processing__categorical_variables_processing__hot_encoding__dtype',\n",
       " 'feature_processing__categorical_variables_processing__hot_encoding__categorical_features',\n",
       " 'feature_processing__binary_variables_processing__accept_sparse',\n",
       " 'model_fitting__alpha',\n",
       " 'feature_processing__numeric_variables_processing__scaling__with_mean',\n",
       " 'model_fitting__power_t',\n",
       " 'feature_processing__numeric_variables_processing__scaling__copy',\n",
       " 'model_fitting__n_iter',\n",
       " 'model_fitting',\n",
       " 'steps',\n",
       " 'feature_processing__binary_variables_processing',\n",
       " 'model_fitting__loss',\n",
       " 'feature_processing__categorical_variables_processing__selecting',\n",
       " 'feature_processing__categorical_variables_processing__hot_encoding',\n",
       " 'model_fitting__shuffle']"
      ]
     },
     "execution_count": 36,
     "metadata": {},
     "output_type": "execute_result"
    }
   ],
   "source": [
    "# посмотрим какие параметры тут доступны\n",
    "estimator.get_params().keys()"
   ]
  },
  {
   "cell_type": "code",
   "execution_count": 40,
   "metadata": {
    "collapsed": false
   },
   "outputs": [],
   "source": [
    "# переберем только 2 параметра\n",
    "parameters_grid={\n",
    "    'model_fitting__alpha':[0.0001, 0.001, 0.1],\n",
    "    'model_fitting__eta0':[0.001, 0.05],\n",
    "}"
   ]
  },
  {
   "cell_type": "code",
   "execution_count": 41,
   "metadata": {
    "collapsed": false
   },
   "outputs": [],
   "source": [
    "grid_cv=grid_search.GridSearchCV(estimator, parameters_grid, scoring='mean_absolute_error', cv=4)"
   ]
  },
  {
   "cell_type": "code",
   "execution_count": 42,
   "metadata": {
    "collapsed": true
   },
   "outputs": [
    {
     "name": "stdout",
     "output_type": "stream",
     "text": [
      "Wall time: 2.35 s\n"
     ]
    },
    {
     "data": {
      "text/plain": [
       "GridSearchCV(cv=4, error_score='raise',\n",
       "       estimator=Pipeline(steps=[('feature_processing', FeatureUnion(n_jobs=1,\n",
       "       transformer_list=[('binary_variables_processing', FunctionTransformer(accept_sparse=False,\n",
       "          func=<function <lambda> at 0x000000000B800128>, pass_y=False,\n",
       "          validate=True)), ('numeric_variables_processing', Pipeline(steps=[(...r=3, penalty='l2', power_t=0.25,\n",
       "       random_state=0, shuffle=True, verbose=0, warm_start=False))]),\n",
       "       fit_params={}, iid=True, n_jobs=1,\n",
       "       param_grid={'model_fitting__eta0': [0.001, 0.05], 'model_fitting__alpha': [0.0001, 0.001, 0.1]},\n",
       "       pre_dispatch='2*n_jobs', refit=True, scoring='mean_absolute_error',\n",
       "       verbose=0)"
      ]
     },
     "execution_count": 42,
     "metadata": {},
     "output_type": "execute_result"
    }
   ],
   "source": [
    "%%time\n",
    "grid_cv.fit(train_data, train_label)"
   ]
  },
  {
   "cell_type": "code",
   "execution_count": 43,
   "metadata": {
    "collapsed": false
   },
   "outputs": [
    {
     "name": "stdout",
     "output_type": "stream",
     "text": [
      "-104.61097793\n",
      "{'model_fitting__eta0': 0.05, 'model_fitting__alpha': 0.1}\n"
     ]
    }
   ],
   "source": [
    "print grid_cv.best_score_\n",
    "print grid_cv.best_params_"
   ]
  },
  {
   "cell_type": "markdown",
   "metadata": {},
   "source": [
    "**5.Оценка по отложенному тесту**"
   ]
  },
  {
   "cell_type": "code",
   "execution_count": 44,
   "metadata": {
    "collapsed": true
   },
   "outputs": [],
   "source": [
    "test_prediction=grid_cv.best_estimator_.predict(test_data)"
   ]
  },
  {
   "cell_type": "code",
   "execution_count": 46,
   "metadata": {
    "collapsed": false
   },
   "outputs": [
    {
     "data": {
      "text/plain": [
       "126.17670701473044"
      ]
     },
     "execution_count": 46,
     "metadata": {},
     "output_type": "execute_result"
    }
   ],
   "source": [
    "metrics.mean_absolute_error(test_label, test_prediction)"
   ]
  },
  {
   "cell_type": "code",
   "execution_count": 48,
   "metadata": {
    "collapsed": false
   },
   "outputs": [
    {
     "name": "stdout",
     "output_type": "stream",
     "text": [
      "[525 835 355 222 228 325 328 308 346 446 943 838 531 432 195 181 199  49\n",
      "  17  16]\n",
      "[ 143.24020824  166.18559326  212.41847539  243.66840089  262.21027027\n",
      "  255.95729611  280.35929884  307.46605276  313.16392458  323.56466813\n",
      "  320.60577642  313.12562495  294.67280622  279.49996563  269.67904685\n",
      "  240.31743647  244.881957     52.82798241   60.3789872    67.92999199]\n"
     ]
    }
   ],
   "source": [
    "print test_label[:20]\n",
    "print test_prediction[:20]"
   ]
  },
  {
   "cell_type": "code",
   "execution_count": 49,
   "metadata": {
    "collapsed": false
   },
   "outputs": [
    {
     "data": {
      "text/plain": [
       "(-100, 1100)"
      ]
     },
     "execution_count": 49,
     "metadata": {},
     "output_type": "execute_result"
    },
    {
     "data": {
      "image/png": "[encoded data removed]",
      "text/plain": [
       "<matplotlib.figure.Figure at 0xbd0cd68>"
      ]
     },
     "metadata": {},
     "output_type": "display_data"
    }
   ],
   "source": [
    "pylab.figure(figsize(8, 6))\n",
    "\n",
    "pylab.grid(True)\n",
    "pylab.scatter(train_label, grid_cv.best_estimator_.predict(train_data), alpha=0.5, color='red')\n",
    "pylab.scatter(test_label, grid_cv.best_estimator_.predict(test_data), alpha=0.5, color='blue')\n",
    "pylab.xlim(-100, 1100)\n",
    "pylab.ylim(-100, 1100)"
   ]
  },
  {
   "cell_type": "markdown",
   "metadata": {},
   "source": [
    "по графику мы видим что область точек далека от диогональной области которая получилась бы в случае хорошей модели значит -\n",
    "**Результат снова плохой **\n",
    "Почему:  **мы строим линейную модель ** т.к. предполагаем линейную зависимость между признаками и целевой переменной но видимо это не всегда так значит можно:\n",
    "1. придумать новые признаки и улучшить модель\n",
    "2. взять другую более сложную модель для обучения"
   ]
  },
  {
   "cell_type": "markdown",
   "metadata": {},
   "source": [
    "# ДРУГАЯ МОДЕЛЬ"
   ]
  },
  {
   "cell_type": "code",
   "execution_count": 50,
   "metadata": {
    "collapsed": true
   },
   "outputs": [],
   "source": [
    "# модель случайный лес\n",
    "from sklearn.ensemble import RandomForestRegressor"
   ]
  },
  {
   "cell_type": "code",
   "execution_count": 51,
   "metadata": {
    "collapsed": true
   },
   "outputs": [],
   "source": [
    "regressor = RandomForestRegressor(random_state=0, \n",
    "                                  max_depth=20, \n",
    "                                  n_estimators=50)"
   ]
  },
  {
   "cell_type": "code",
   "execution_count": 52,
   "metadata": {
    "collapsed": true
   },
   "outputs": [],
   "source": [
    "# повторим преобразования\n",
    "estimator = pipeline.Pipeline(steps = [\n",
    "        ('feature_processing', pipeline.FeatureUnion(transformer_list=[\n",
    "        #binary устраивает нас в этом же виде\n",
    "        ('binary_variables_processing', preprocessing.FunctionTransformer(lambda data: data[:, binary_data_indeces])),\n",
    "        #numeric тут сначала отделим затем масштабируем\n",
    "        ('numeric_variables_processing', pipeline.Pipeline(steps=[\n",
    "                  ('selecting', preprocessing.FunctionTransformer(lambda data: data[:, numeric_data_indeces])),\n",
    "                  ('scaling', preprocessing.StandardScaler(with_mean = 0.)) \n",
    "                            ])),\n",
    "        #categorical тут отделим затем преобразовываем в нумерический вид наши категории (hot_encoding) \n",
    "        ('categorical_variables_processing', pipeline.Pipeline(steps =[\n",
    "                  ('selecting', preprocessing.FunctionTransformer(lambda data: data[:, categorical_data_indeces])),\n",
    "                  ('hot_encoding', preprocessing.OneHotEncoder(handle_unknown = 'ignore'))   \n",
    "                            ]))\n",
    "          ])),\n",
    "        ('model_fitting', regressor)])"
   ]
  },
  {
   "cell_type": "code",
   "execution_count": 54,
   "metadata": {
    "collapsed": false
   },
   "outputs": [
    {
     "data": {
      "text/plain": [
       "79.465803762612722"
      ]
     },
     "execution_count": 54,
     "metadata": {},
     "output_type": "execute_result"
    }
   ],
   "source": [
    "#обучим\n",
    "estimator.fit(train_data, train_label)\n",
    "#оценим качество\n",
    "metrics.mean_absolute_error(test_label, estimator.predict(test_data))"
   ]
  },
  {
   "cell_type": "code",
   "execution_count": 55,
   "metadata": {
    "collapsed": false
   },
   "outputs": [
    {
     "name": "stdout",
     "output_type": "stream",
     "text": [
      "[525 835 355 222 228 325 328 308 346 446]\n",
      "[ 409.565       505.56        256.14066667  165.5502619   206.48474784\n",
      "  265.73960439  254.49615818  317.85774486  282.66963263  441.59333333]\n"
     ]
    }
   ],
   "source": [
    "#кажется лучше\n",
    "print test_label[:10]\n",
    "print estimator.predict(test_data)[:10]"
   ]
  },
  {
   "cell_type": "code",
   "execution_count": 57,
   "metadata": {
    "collapsed": false
   },
   "outputs": [
    {
     "data": {
      "text/plain": [
       "(-100, 1100)"
      ]
     },
     "execution_count": 57,
     "metadata": {},
     "output_type": "execute_result"
    },
    {
     "data": {
      "image/png": "[encoded data removed]",
      "text/plain": [
       "<matplotlib.figure.Figure at 0xc25ecf8>"
      ]
     },
     "metadata": {},
     "output_type": "display_data"
    }
   ],
   "source": [
    "#Отрисуем\n",
    "pylab.figure(figsize(8, 6))\n",
    "\n",
    "pylab.grid(True)\n",
    "pylab.scatter(train_label, estimator.predict(train_data), alpha=0.5, color='red')\n",
    "pylab.scatter(test_label, estimator.predict(test_data), alpha=0.5, color='blue')\n",
    "pylab.xlim(-100, 1100)\n",
    "pylab.ylim(-100, 1100)"
   ]
  },
  {
   "cell_type": "markdown",
   "metadata": {},
   "source": [
    "Да модель явно лучше так как области уже принимают диоганальные графики !!!!"
   ]
  }
 ],
 "metadata": {
  "anaconda-cloud": {},
  "kernelspec": {
   "display_name": "Python [Root]",
   "language": "python",
   "name": "Python [Root]"
  },
  "language_info": {
   "codemirror_mode": {
    "name": "ipython",
    "version": 2
   },
   "file_extension": ".py",
   "mimetype": "text/x-python",
   "name": "python",
   "nbconvert_exporter": "python",
   "pygments_lexer": "ipython2",
   "version": "2.7.13"
  }
 },
 "nbformat": 4,
 "nbformat_minor": 0
}
