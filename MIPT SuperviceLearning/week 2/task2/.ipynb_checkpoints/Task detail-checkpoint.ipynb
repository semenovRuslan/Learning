{
 "cells": [
  {
   "cell_type": "markdown",
   "metadata": {},
   "source": [
    "# Task detail"
   ]
  },
  {
   "cell_type": "markdown",
   "metadata": {},
   "source": [
    "Bernoulli described here: https://docs.scipy.org/doc/scipy-0.16.1/reference/generated/scipy.stats.bernoulli.html"
   ]
  },
  {
   "cell_type": "markdown",
   "metadata": {},
   "source": [
    "Из 15 клиентов банка, которым менеджер предложил подключить автоплатёж, четверо согласились. Подключение услуги — бинарный признак, который можно описать распределением Бернулли. Запишите функцию правдоподобия L(Xn,p) для такой выборки и посчитайте её значение, если истинная вероятность подключения услуги p=0.2. Запишите ответ с пятью знаками после десятичной точки."
   ]
  },
  {
   "cell_type": "code",
   "execution_count": null,
   "metadata": {
    "collapsed": false
   },
   "outputs": [],
   "source": [
    "#вспомним  распределение Бернули\n",
    "from scipy.stats import bernoulli\n",
    "import matplotlib.pyplot as plt\n",
    "import numpy as np\n",
    "\n",
    "p=0.2\n",
    "#set answer where Mean(‘m’), variance(‘v’), skew(‘s’), and/or kurtosis(‘k’).\n",
    "mean, var, skew, kurt =bernoulli.stats(p, moments='mvsk')\n",
    "#     Display the probability mass function (pmf):\n",
    "fig, ax = plt.subplots(1,1)\n",
    "\n",
    "x = np.arange(bernoulli.ppf(0.01, p), bernoulli.ppf(0.99, p))\n",
    "ax.plot(x, bernoulli.pmf(x, p), 'bo', ms=8, label='bernoulli pmf')\n",
    "ax.vlines(x, 0, bernoulli.pmf(x, p), colors='b', lw=5, alpha=0.5)\n",
    "plt.show()"
   ]
  },
  {
   "cell_type": "code",
   "execution_count": null,
   "metadata": {
    "collapsed": true
   },
   "outputs": [],
   "source": [
    "# Alternatively, the distribution object can be called (as a function) to fix the shape and location. \n",
    "# This returns a “frozen” RV object holding the given parameters fixed.\n",
    "# Freeze the distribution and display the frozen pmf:\n",
    "rv = bernoulli(p)\n",
    "ax.vlines(x, 0, rv.pmf(x), colors='k', linestyles='-', lw=1, label='frozen pmf')\n",
    "ax.legend(loc='best', frameon=False)\n",
    "plt.show()"
   ]
  },
  {
   "cell_type": "markdown",
   "metadata": {},
   "source": [
    "Вспомним о функции максимального правдоподобия :\n",
    "    \"...Функция правдоподобия основывается на условной вероятности взятием ее как функции от второго аргумента при фиксировании первого. Например рассмотрим модель в которой плотностью вероятности случайной величины X зависит от параметра θ. Тогда для некоторого конкретного значения x случайной величины X функция L(θ | x) = P(X=x | θ) и есть функция правдоподобия θ, определяя насколько правдоподобно каждое конкретное значение параметра θ при условии, что нам известно значение x величины X. Две функции правдоподобия являются равными, если одна есть произведение второй на некоторую скалярную величину\""
   ]
  },
  {
   "cell_type": "markdown",
   "metadata": {},
   "source": [
    "    В нашем случае для случайной величины Xr функция правдоподобия распределенная по Бернули равна: \n",
    "$${f(Xr,Q)=Q^4*(1-Q)^{15-4}}$$\n",
    "\n",
    "тогда при вероятности 0.2 мы получаем :$$0.2^4*0.8^{11}=0.0016*0.085=0.00013$$"
   ]
  }
 ],
 "metadata": {
  "anaconda-cloud": {},
  "kernelspec": {
   "display_name": "Python [Root]",
   "language": "python",
   "name": "Python [Root]"
  },
  "language_info": {
   "codemirror_mode": {
    "name": "ipython",
    "version": 2
   },
   "file_extension": ".py",
   "mimetype": "text/x-python",
   "name": "python",
   "nbconvert_exporter": "python",
   "pygments_lexer": "ipython2",
   "version": "2.7.13"
  }
 },
 "nbformat": 4,
 "nbformat_minor": 0
}
