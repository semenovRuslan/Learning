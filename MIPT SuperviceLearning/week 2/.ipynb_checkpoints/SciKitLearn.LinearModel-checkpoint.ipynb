{
 "cells": [
  {
   "cell_type": "markdown",
   "metadata": {},
   "source": [
    "# sklearn.liner_model"
   ]
  },
  {
   "cell_type": "markdown",
   "metadata": {},
   "source": [
    "SciKitLearn.LenearModel модуль предназначеный для построения линейных моделей. Модуль предоставляет целый ряд линейных моделей: \n",
    "1. Линейная классификация\n",
    "2. Регрессия\n",
    "3. Логистическая регрессия \n",
    "4. Модели на основе стохастического градиентного спуска\n",
    "\n",
    "документация: http://scikit-learn.org/stable/modules/classes.html#module-sklearn.linear_model\n",
    "    \n",
    "примеры: http://scikit-learn.org/stable/modules/linear_model.html#linear-model"
   ]
  },
  {
   "cell_type": "markdown",
   "metadata": {},
   "source": [
    "**linear_model:**\n",
    "* RidgeClassifier\n",
    "* SGDClassifier\n",
    "* SGDRegressor\n",
    "* LinearRegression\n",
    "* LogisticRegression\n",
    "* Lasso\n",
    "* etc"
   ]
  },
  {
   "cell_type": "code",
   "execution_count": 1,
   "metadata": {
    "collapsed": false
   },
   "outputs": [],
   "source": [
    "from matplotlib.colors import ListedColormap\n",
    "from sklearn import cross_validation, datasets, linear_model, metrics\n",
    "\n",
    "import numpy as np"
   ]
  },
  {
   "cell_type": "code",
   "execution_count": 2,
   "metadata": {
    "collapsed": false
   },
   "outputs": [
    {
     "name": "stdout",
     "output_type": "stream",
     "text": [
      "Populating the interactive namespace from numpy and matplotlib\n"
     ]
    }
   ],
   "source": [
    "%pylab inline"
   ]
  },
  {
   "cell_type": "markdown",
   "metadata": {},
   "source": [
    "# Геннерация данных"
   ]
  },
  {
   "cell_type": "code",
   "execution_count": 3,
   "metadata": {
    "collapsed": true
   },
   "outputs": [],
   "source": [
    "# выбираем датасет представленый в виде облаков(капель)\n",
    "# указываем сколько будет классов\n",
    "# указываем какой будет разброс\n",
    "\n",
    "blobs= datasets.make_blobs(centers=2, cluster_std=5.5, random_state=1)"
   ]
  },
  {
   "cell_type": "code",
   "execution_count": 4,
   "metadata": {
    "collapsed": false
   },
   "outputs": [
    {
     "data": {
      "text/plain": [
       "<matplotlib.collections.PathCollection at 0x7905400>"
      ]
     },
     "execution_count": 4,
     "metadata": {},
     "output_type": "execute_result"
    },
    {
     "data": {
      "image/png": "[encoded data removed]",
      "text/plain": [
       "<matplotlib.figure.Figure at 0x938cb00>"
      ]
     },
     "metadata": {},
     "output_type": "display_data"
    }
   ],
   "source": [
    "colors=ListedColormap(['red', 'green'])\n",
    "pylab.figure(figsize(8, 8))\n",
    "pylab.scatter(map(lambda x: x[0], blobs[0]), map(lambda x:x[1], blobs[0]), c=blobs[1], cmap=colors)\n"
   ]
  },
  {
   "cell_type": "code",
   "execution_count": 5,
   "metadata": {
    "collapsed": true
   },
   "outputs": [],
   "source": [
    "# теперь разобьем данные на обучение и тест\n",
    "train_data, test_data, train_label, test_label = cross_validation.train_test_split(\n",
    "                                                    blobs[0], blobs[1], test_size=0.3, random_state=1)"
   ]
  },
  {
   "cell_type": "markdown",
   "metadata": {},
   "source": [
    "# Линейная классификация"
   ]
  },
  {
   "cell_type": "markdown",
   "metadata": {},
   "source": [
    "Теперь давайте строить линейный классификатор. Используем классификатор **RidgeClissifier**. Не  будем указывать параметров и возьмем модель по-умолчанию. Единственный параметр укажем random_state=1  для того что бы наши эксперименты были воспроизводимы "
   ]
  },
  {
   "cell_type": "code",
   "execution_count": 6,
   "metadata": {
    "collapsed": false
   },
   "outputs": [],
   "source": [
    "#создаем классификатора\n",
    "ridge_classifier = linear_model.RidgeClassifier(random_state=1)"
   ]
  },
  {
   "cell_type": "code",
   "execution_count": 7,
   "metadata": {
    "collapsed": false
   },
   "outputs": [
    {
     "data": {
      "text/plain": [
       "RidgeClassifier(alpha=1.0, class_weight=None, copy_X=True, fit_intercept=True,\n",
       "        max_iter=None, normalize=False, random_state=1, solver='auto',\n",
       "        tol=0.001)"
      ]
     },
     "execution_count": 7,
     "metadata": {},
     "output_type": "execute_result"
    }
   ],
   "source": [
    "# обучим модель для этого передадим обучающую выборку и метки классов\n",
    "ridge_classifier.fit(train_data, train_label)"
   ]
  },
  {
   "cell_type": "code",
   "execution_count": 8,
   "metadata": {
    "collapsed": true
   },
   "outputs": [],
   "source": [
    "# теперь можем строить наши предсказания:\n",
    "ridge_prediction=ridge_classifier.predict(test_data)"
   ]
  },
  {
   "cell_type": "code",
   "execution_count": 9,
   "metadata": {
    "collapsed": false
   },
   "outputs": [
    {
     "name": "stdout",
     "output_type": "stream",
     "text": [
      "[0 0 0 1 0 0 0 0 0 1 0 1 0 1 1 1 0 0 0 1 0 0 0 1 1 1 1 0 0 1]\n",
      "[0 0 0 1 0 1 0 0 0 1 0 1 0 1 1 1 1 0 1 1 1 0 0 1 1 1 1 0 0 1]\n"
     ]
    }
   ],
   "source": [
    "print test_label\n",
    "print ridge_prediction"
   ]
  },
  {
   "cell_type": "code",
   "execution_count": 10,
   "metadata": {
    "collapsed": false
   },
   "outputs": [
    {
     "data": {
      "text/plain": [
       "0.8666666666666667"
      ]
     },
     "execution_count": 10,
     "metadata": {},
     "output_type": "execute_result"
    }
   ],
   "source": [
    "# формально оценим качество модели при помощи accuracy:\n",
    "metrics.accuracy_score(test_label, ridge_prediction)"
   ]
  },
  {
   "cell_type": "code",
   "execution_count": 11,
   "metadata": {
    "collapsed": false
   },
   "outputs": [
    {
     "name": "stdout",
     "output_type": "stream",
     "text": [
      "[[-0.0854443  -0.07273219]]\n",
      "[-0.31250723]\n"
     ]
    }
   ],
   "source": [
    "# кроме качества обучения  мы можем смотреть на веса признаков \n",
    "print ridge_classifier.coef_\n",
    "# свободный коеффициент. Коэффициент перед свободным членом\n",
    "print ridge_classifier.intercept_"
   ]
  },
  {
   "cell_type": "markdown",
   "metadata": {},
   "source": [
    "# Логистическая регрессия "
   ]
  },
  {
   "cell_type": "markdown",
   "metadata": {},
   "source": [
    "Следующая модель которую мы обучим будет Логистическая регрессия. Снова воспользуемся параметрами по-умолчанию\n"
   ]
  },
  {
   "cell_type": "code",
   "execution_count": 12,
   "metadata": {
    "collapsed": true
   },
   "outputs": [],
   "source": [
    "#создаем объект\n",
    "log_regressor=linear_model.LogisticRegression(random_state=1)"
   ]
  },
  {
   "cell_type": "code",
   "execution_count": 13,
   "metadata": {
    "collapsed": false
   },
   "outputs": [
    {
     "data": {
      "text/plain": [
       "LogisticRegression(C=1.0, class_weight=None, dual=False, fit_intercept=True,\n",
       "          intercept_scaling=1, max_iter=100, multi_class='ovr', n_jobs=1,\n",
       "          penalty='l2', random_state=1, solver='liblinear', tol=0.0001,\n",
       "          verbose=0, warm_start=False)"
      ]
     },
     "execution_count": 13,
     "metadata": {},
     "output_type": "execute_result"
    }
   ],
   "source": [
    "#обучаем модель\n",
    "log_regressor.fit(train_data, train_label)"
   ]
  },
  {
   "cell_type": "code",
   "execution_count": 14,
   "metadata": {
    "collapsed": true
   },
   "outputs": [],
   "source": [
    "#прогнозируем\n",
    "log_predict=log_regressor.predict(test_data)"
   ]
  },
  {
   "cell_type": "code",
   "execution_count": 15,
   "metadata": {
    "collapsed": true
   },
   "outputs": [],
   "source": [
    "# regression вероятностный метод поэтому каждый ответ имеет некую вероятностную составляющую\n",
    "log_predict_probability = log_regressor.predict_proba(test_data)"
   ]
  },
  {
   "cell_type": "code",
   "execution_count": 16,
   "metadata": {
    "collapsed": false
   },
   "outputs": [
    {
     "name": "stdout",
     "output_type": "stream",
     "text": [
      "[0 1 1 1 0 1 0 0 0 1 0 1 0 1 1 1 1 0 1 1 1 0 0 1 1 1 1 0 0 1]\n",
      "[0 0 0 1 0 0 0 0 0 1 0 1 0 1 1 1 0 0 0 1 0 0 0 1 1 1 1 0 0 1]\n"
     ]
    }
   ],
   "source": [
    "#просмотрим\n",
    "print log_predict\n",
    "print test_label "
   ]
  },
  {
   "cell_type": "code",
   "execution_count": 17,
   "metadata": {
    "collapsed": false
   },
   "outputs": [
    {
     "name": "stdout",
     "output_type": "stream",
     "text": [
      "[[ 0.99873457  0.00126543]\n",
      " [ 0.38956803  0.61043197]\n",
      " [ 0.45000737  0.54999263]\n",
      " [ 0.00536816  0.99463184]\n",
      " [ 0.70965944  0.29034056]\n",
      " [ 0.23304944  0.76695056]\n",
      " [ 0.98983143  0.01016857]\n",
      " [ 0.9709671   0.0290329 ]\n",
      " [ 0.93909394  0.06090606]\n",
      " [ 0.15103335  0.84896665]\n",
      " [ 0.90324667  0.09675333]\n",
      " [ 0.0100448   0.9899552 ]\n",
      " [ 0.82338574  0.17661426]\n",
      " [ 0.05238427  0.94761573]\n",
      " [ 0.00443451  0.99556549]\n",
      " [ 0.00102911  0.99897089]\n",
      " [ 0.20817393  0.79182607]\n",
      " [ 0.91074564  0.08925436]\n",
      " [ 0.22580526  0.77419474]\n",
      " [ 0.00101709  0.99898291]\n",
      " [ 0.09600944  0.90399056]\n",
      " [ 0.99367624  0.00632376]\n",
      " [ 0.9779897   0.0220103 ]\n",
      " [ 0.29889823  0.70110177]\n",
      " [ 0.00210487  0.99789513]\n",
      " [ 0.00929423  0.99070577]\n",
      " [ 0.2670277   0.7329723 ]\n",
      " [ 0.85210662  0.14789338]\n",
      " [ 0.98871444  0.01128556]\n",
      " [ 0.00407572  0.99592428]]\n"
     ]
    }
   ],
   "source": [
    "#просмотрим вероятности ответов\n",
    "print log_predict_probability"
   ]
  },
  {
   "cell_type": "code",
   "execution_count": 18,
   "metadata": {
    "collapsed": false
   },
   "outputs": [
    {
     "data": {
      "text/plain": [
       "0.80000000000000004"
      ]
     },
     "execution_count": 18,
     "metadata": {},
     "output_type": "execute_result"
    }
   ],
   "source": [
    "#оценим\n",
    "metrics.accuracy_score(log_predict, test_label)"
   ]
  },
  {
   "cell_type": "markdown",
   "metadata": {
    "collapsed": true
   },
   "source": [
    "# Оценка качества cross_validation"
   ]
  },
  {
   "cell_type": "markdown",
   "metadata": {},
   "source": [
    "Нельзя с увереностью сказать какая из двух вышепреведенных моделей лучше так как мы рассмотрели только некий срез в обучении. Можно конечно продолжать и с помощью **train_test_split** получить новый обучающий - тестовый набор. Повторив так несколько раз мы получим набор оценок, которые в дальнейшем можно будет усреднить, посчитать отклонение и получить некую интервальную оценку на качество наших моделей. Но есть некий автоматизированный способ для этого."
   ]
  },
  {
   "cell_type": "markdown",
   "metadata": {},
   "source": [
    "**cross_val_score :**"
   ]
  },
  {
   "cell_type": "code",
   "execution_count": 19,
   "metadata": {
    "collapsed": false
   },
   "outputs": [],
   "source": [
    "ridge_scoring=cross_validation.cross_val_score(ridge_classifier, \n",
    "                                               blobs[0], blobs[1], scoring='accuracy',\n",
    "                                              cv=10)\n",
    "#метрика качества ACCURACY\n",
    "#cv=10 колво KFold для алгоритма по умолчанию \"stratified k-fold\""
   ]
  },
  {
   "cell_type": "code",
   "execution_count": 20,
   "metadata": {
    "collapsed": true
   },
   "outputs": [],
   "source": [
    "lr_scoring=cross_validation.cross_val_score(log_regressor, \n",
    "                                               blobs[0], blobs[1], scoring='accuracy',\n",
    "                                              cv=10)"
   ]
  },
  {
   "cell_type": "code",
   "execution_count": 21,
   "metadata": {
    "collapsed": false
   },
   "outputs": [
    {
     "name": "stdout",
     "output_type": "stream",
     "text": [
      "[ 0.8  0.9  0.9  0.9  1.   1.   0.7  0.9  0.9  0.8]\n",
      "[ 0.7  0.9  0.9  0.9  1.   1.   0.7  0.9  0.9  0.8]\n"
     ]
    }
   ],
   "source": [
    "#результаты\n",
    "print ridge_scoring\n",
    "print lr_scoring"
   ]
  },
  {
   "cell_type": "code",
   "execution_count": 22,
   "metadata": {
    "collapsed": false
   },
   "outputs": [
    {
     "name": "stdout",
     "output_type": "stream",
     "text": [
      "Ridge mean:0.88, max:1.0, min:0.7, std:0.0871779788708\n",
      "Logistic regression mean:0.87, max:1.0, min:0.7, std:0.100498756211\n"
     ]
    }
   ],
   "source": [
    "#статистики:\n",
    "print 'Ridge mean:{}, max:{}, min:{}, std:{}'.format(ridge_scoring.mean(), \n",
    "                                                     ridge_scoring.max(), \n",
    "                                                     ridge_scoring.min(), \n",
    "                                                     ridge_scoring.std())\n",
    "\n",
    "print 'Logistic regression mean:{}, max:{}, min:{}, std:{}'.format(lr_scoring.mean(), \n",
    "                                                     lr_scoring.max(), \n",
    "                                                     lr_scoring.min(), \n",
    "                                                     lr_scoring.std())\n"
   ]
  },
  {
   "cell_type": "markdown",
   "metadata": {
    "collapsed": true
   },
   "source": [
    "# Своя метрика качества\n",
    "***cross_val_score***"
   ]
  },
  {
   "cell_type": "markdown",
   "metadata": {},
   "source": [
    "Для создания своей метрики алгоритм оценки должен удовлетворять принятому интерфейсу. \n",
    "Он должен принимать 3 параметра:\n",
    "    1. Модель которую мы оцениваем\n",
    "    2. Набор меток классов \n",
    "    3. Набор наших предсказаний"
   ]
  },
  {
   "cell_type": "code",
   "execution_count": 24,
   "metadata": {
    "collapsed": false
   },
   "outputs": [],
   "source": [
    "#создаем scorer в данном случае это та же самая метрика\n",
    "scorer=metrics.make_scorer(metrics.accuracy_score)"
   ]
  },
  {
   "cell_type": "code",
   "execution_count": 27,
   "metadata": {
    "collapsed": false
   },
   "outputs": [],
   "source": [
    "#теперь специфицируем стратегию кросс валидации:\n",
    "cv_strategy=cross_validation.StratifiedShuffleSplit(blobs[1], n_iter=20, test_size=0.3, random_state=2)"
   ]
  },
  {
   "cell_type": "code",
   "execution_count": 30,
   "metadata": {
    "collapsed": false
   },
   "outputs": [],
   "source": [
    "#теперь снова оценим наши модели\n",
    "ridge_scoring=cross_validation.cross_val_score(ridge_classifier, \n",
    "                                               blobs[0], blobs[1], scoring=scorer,\n",
    "                                               cv=cv_strategy)"
   ]
  },
  {
   "cell_type": "code",
   "execution_count": 31,
   "metadata": {
    "collapsed": true
   },
   "outputs": [],
   "source": [
    "lg_scoring=cross_validation.cross_val_score(log_regressor, \n",
    "                                               blobs[0], blobs[1], scoring=scorer,\n",
    "                                               cv=cv_strategy)"
   ]
  },
  {
   "cell_type": "code",
   "execution_count": 32,
   "metadata": {
    "collapsed": false
   },
   "outputs": [
    {
     "name": "stdout",
     "output_type": "stream",
     "text": [
      "Ridge mean:0.87, max:1.0, min:0.766666666667, std:0.0595352369983\n",
      "Logistic regression mean:0.87, max:1.0, min:0.7, std:0.100498756211\n"
     ]
    }
   ],
   "source": [
    "#статистики:\n",
    "print 'Ridge mean:{}, max:{}, min:{}, std:{}'.format(ridge_scoring.mean(), \n",
    "                                                     ridge_scoring.max(), \n",
    "                                                     ridge_scoring.min(), \n",
    "                                                     ridge_scoring.std())\n",
    "\n",
    "print 'Logistic regression mean:{}, max:{}, min:{}, std:{}'.format(lr_scoring.mean(), \n",
    "                                                     lr_scoring.max(), \n",
    "                                                     lr_scoring.min(), \n",
    "                                                     lr_scoring.std())"
   ]
  },
  {
   "cell_type": "code",
   "execution_count": null,
   "metadata": {
    "collapsed": true
   },
   "outputs": [],
   "source": []
  }
 ],
 "metadata": {
  "anaconda-cloud": {},
  "kernelspec": {
   "display_name": "Python [Root]",
   "language": "python",
   "name": "Python [Root]"
  },
  "language_info": {
   "codemirror_mode": {
    "name": "ipython",
    "version": 2
   },
   "file_extension": ".py",
   "mimetype": "text/x-python",
   "name": "python",
   "nbconvert_exporter": "python",
   "pygments_lexer": "ipython2",
   "version": "2.7.12"
  }
 },
 "nbformat": 4,
 "nbformat_minor": 0
}
