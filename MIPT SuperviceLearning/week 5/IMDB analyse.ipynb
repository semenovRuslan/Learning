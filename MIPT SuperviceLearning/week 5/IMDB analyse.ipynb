{
 "cells": [
  {
   "cell_type": "markdown",
   "metadata": {},
   "source": [
    "# Рецензии на IMDB"
   ]
  },
  {
   "cell_type": "markdown",
   "metadata": {},
   "source": [
    "Имеются 25000 рецензий пользователей imdb с бинарными метками, посчитанными по оценкам: 0 при оценке < 5 и 1 при оценке >=7.\n",
    "\n",
    "Полные данные: https://www.kaggle.com/c/word2vec-nlp-tutorial/data\n"
   ]
  },
  {
   "cell_type": "code",
   "execution_count": 1,
   "metadata": {
    "collapsed": true
   },
   "outputs": [],
   "source": [
    "import numpy as np\n",
    "import pandas as pd\n",
    "import matplotlib.pyplot as plt\n",
    "from sklearn.cross_validation import train_test_split"
   ]
  },
  {
   "cell_type": "code",
   "execution_count": 2,
   "metadata": {
    "collapsed": false
   },
   "outputs": [],
   "source": [
    "%matplotlib inline"
   ]
  },
  {
   "cell_type": "markdown",
   "metadata": {},
   "source": [
    "1. **Загружаем данные**"
   ]
  },
  {
   "cell_type": "code",
   "execution_count": 3,
   "metadata": {
    "collapsed": false
   },
   "outputs": [
    {
     "data": {
      "text/plain": [
       "(25000, 3)"
      ]
     },
     "execution_count": 3,
     "metadata": {},
     "output_type": "execute_result"
    }
   ],
   "source": [
    "imdb=pd.read_csv('labeledTrainData.tsv', delimiter='\\t')\n",
    "imdb.shape"
   ]
  },
  {
   "cell_type": "code",
   "execution_count": 4,
   "metadata": {
    "collapsed": false
   },
   "outputs": [
    {
     "data": {
      "text/html": [
       "<div>\n",
       "<table border=\"1\" class=\"dataframe\">\n",
       "  <thead>\n",
       "    <tr style=\"text-align: right;\">\n",
       "      <th></th>\n",
       "      <th>id</th>\n",
       "      <th>sentiment</th>\n",
       "      <th>review</th>\n",
       "    </tr>\n",
       "  </thead>\n",
       "  <tbody>\n",
       "    <tr>\n",
       "      <th>0</th>\n",
       "      <td>5814_8</td>\n",
       "      <td>1</td>\n",
       "      <td>With all this stuff going down at the moment w...</td>\n",
       "    </tr>\n",
       "    <tr>\n",
       "      <th>1</th>\n",
       "      <td>2381_9</td>\n",
       "      <td>1</td>\n",
       "      <td>\\The Classic War of the Worlds\\\" by Timothy Hi...</td>\n",
       "    </tr>\n",
       "    <tr>\n",
       "      <th>2</th>\n",
       "      <td>7759_3</td>\n",
       "      <td>0</td>\n",
       "      <td>The film starts with a manager (Nicholas Bell)...</td>\n",
       "    </tr>\n",
       "    <tr>\n",
       "      <th>3</th>\n",
       "      <td>3630_4</td>\n",
       "      <td>0</td>\n",
       "      <td>It must be assumed that those who praised this...</td>\n",
       "    </tr>\n",
       "    <tr>\n",
       "      <th>4</th>\n",
       "      <td>9495_8</td>\n",
       "      <td>1</td>\n",
       "      <td>Superbly trashy and wondrously unpretentious 8...</td>\n",
       "    </tr>\n",
       "  </tbody>\n",
       "</table>\n",
       "</div>"
      ],
      "text/plain": [
       "       id  sentiment                                             review\n",
       "0  5814_8          1  With all this stuff going down at the moment w...\n",
       "1  2381_9          1  \\The Classic War of the Worlds\\\" by Timothy Hi...\n",
       "2  7759_3          0  The film starts with a manager (Nicholas Bell)...\n",
       "3  3630_4          0  It must be assumed that those who praised this...\n",
       "4  9495_8          1  Superbly trashy and wondrously unpretentious 8..."
      ]
     },
     "execution_count": 4,
     "metadata": {},
     "output_type": "execute_result"
    }
   ],
   "source": [
    "imdb.head()"
   ]
  },
  {
   "cell_type": "code",
   "execution_count": 5,
   "metadata": {
    "collapsed": false
   },
   "outputs": [
    {
     "data": {
      "text/plain": [
       "1    12500\n",
       "0    12500\n",
       "Name: sentiment, dtype: int64"
      ]
     },
     "execution_count": 5,
     "metadata": {},
     "output_type": "execute_result"
    }
   ],
   "source": [
    "# проверим на сколько сбалансированы классы по sentiment\n",
    "imdb.sentiment.value_counts()"
   ]
  },
  {
   "cell_type": "markdown",
   "metadata": {},
   "source": [
    "# 2. **Разбиваем выборку  на обучение и контроль по рецензиям**\n",
    "\n",
    "попробуем спрогнозировать насколько фильм понравится или нет анализируя рецензии"
   ]
  },
  {
   "cell_type": "code",
   "execution_count": 6,
   "metadata": {
    "collapsed": true
   },
   "outputs": [],
   "source": [
    "text_train, text_test, y_train, y_test = train_test_split(imdb.review.values, imdb.sentiment.values)\n",
    "\n",
    "# векторизируем тексты рецензий с помощью TFIDF т.е. для каждого \n",
    "# слова он выделяет отдельный признак\n",
    "from sklearn.feature_extraction.text import TfidfVectorizer\n",
    "\n",
    "vect = TfidfVectorizer(sublinear_tf=True, use_idf=True)\n",
    "X_train=vect.fit_transform(text_train)\n",
    "X_test=vect.transform(text_test)\n"
   ]
  },
  {
   "cell_type": "markdown",
   "metadata": {},
   "source": [
    "# 3.Логистическая регрессия"
   ]
  },
  {
   "cell_type": "code",
   "execution_count": 7,
   "metadata": {
    "collapsed": false
   },
   "outputs": [
    {
     "name": "stdout",
     "output_type": "stream",
     "text": [
      "0.88752\n",
      "0.957983503981\n"
     ]
    }
   ],
   "source": [
    "from sklearn.linear_model import LogisticRegression\n",
    "from sklearn import metrics\n",
    "\n",
    "clf = LogisticRegression()\n",
    "clf.fit(X_train, y_train)\n",
    "print metrics.accuracy_score(y_test, clf.predict(X_test))\n",
    "print metrics.roc_auc_score(y_test, clf.predict_proba(X_test)[:, 1])\n"
   ]
  },
  {
   "cell_type": "markdown",
   "metadata": {},
   "source": [
    "точность неплохая но признаков очень много(66 633). Попробуем сделать модель проще для чего используем Лассо"
   ]
  },
  {
   "cell_type": "code",
   "execution_count": 8,
   "metadata": {
    "collapsed": false
   },
   "outputs": [
    {
     "name": "stdout",
     "output_type": "stream",
     "text": [
      "105\n",
      "0.80368\n",
      "0.891340557857\n"
     ]
    }
   ],
   "source": [
    "clf=LogisticRegression(C=0.15, penalty='l1')\n",
    "\n",
    "clf.fit(X_train, y_train)\n",
    "\n",
    "print np.sum(np.abs(clf.coef_)>1e-4)\n",
    "print metrics.accuracy_score(y_test, clf.predict(X_test))\n",
    "print metrics.roc_auc_score(y_test, clf.predict_proba(X_test)[:, 1])"
   ]
  },
  {
   "cell_type": "markdown",
   "metadata": {},
   "source": [
    "при уменьшении колва признаков до 100 упала точность. Пробуем другой способ **Stability Selection**. Он заключается в том что мы много раз делаем Лассо с одинаковыми параметрами регуляризации на  на случайных подвыборках наших исходных данных. Затем для каждого признака делаем score который тем больше чем чаще в Лассо он отбирался как полезный."
   ]
  },
  {
   "cell_type": "code",
   "execution_count": 9,
   "metadata": {
    "collapsed": false,
    "scrolled": true
   },
   "outputs": [
    {
     "name": "stderr",
     "output_type": "stream",
     "text": [
      "C:\\Users\\semen\\Anaconda2\\lib\\site-packages\\sklearn\\linear_model\\randomized_l1.py:53: DeprecationWarning: This function is deprecated. Please call randint(0, 1 + 1) instead\n",
      "  for _ in range(n_resampling)):\n",
      "C:\\Users\\semen\\Anaconda2\\lib\\site-packages\\sklearn\\linear_model\\randomized_l1.py:53: DeprecationWarning: This function is deprecated. Please call randint(0, 1 + 1) instead\n",
      "  for _ in range(n_resampling)):\n",
      "C:\\Users\\semen\\Anaconda2\\lib\\site-packages\\sklearn\\linear_model\\randomized_l1.py:53: DeprecationWarning: This function is deprecated. Please call randint(0, 1 + 1) instead\n",
      "  for _ in range(n_resampling)):\n",
      "C:\\Users\\semen\\Anaconda2\\lib\\site-packages\\sklearn\\linear_model\\randomized_l1.py:53: DeprecationWarning: This function is deprecated. Please call randint(0, 1 + 1) instead\n",
      "  for _ in range(n_resampling)):\n",
      "C:\\Users\\semen\\Anaconda2\\lib\\site-packages\\sklearn\\linear_model\\randomized_l1.py:53: DeprecationWarning: This function is deprecated. Please call randint(0, 1 + 1) instead\n",
      "  for _ in range(n_resampling)):\n",
      "C:\\Users\\semen\\Anaconda2\\lib\\site-packages\\sklearn\\linear_model\\randomized_l1.py:53: DeprecationWarning: This function is deprecated. Please call randint(0, 1 + 1) instead\n",
      "  for _ in range(n_resampling)):\n",
      "C:\\Users\\semen\\Anaconda2\\lib\\site-packages\\sklearn\\linear_model\\randomized_l1.py:53: DeprecationWarning: This function is deprecated. Please call randint(0, 1 + 1) instead\n",
      "  for _ in range(n_resampling)):\n",
      "C:\\Users\\semen\\Anaconda2\\lib\\site-packages\\sklearn\\linear_model\\randomized_l1.py:53: DeprecationWarning: This function is deprecated. Please call randint(0, 1 + 1) instead\n",
      "  for _ in range(n_resampling)):\n",
      "C:\\Users\\semen\\Anaconda2\\lib\\site-packages\\sklearn\\linear_model\\randomized_l1.py:53: DeprecationWarning: This function is deprecated. Please call randint(0, 1 + 1) instead\n",
      "  for _ in range(n_resampling)):\n",
      "C:\\Users\\semen\\Anaconda2\\lib\\site-packages\\sklearn\\linear_model\\randomized_l1.py:53: DeprecationWarning: This function is deprecated. Please call randint(0, 1 + 1) instead\n",
      "  for _ in range(n_resampling)):\n",
      "C:\\Users\\semen\\Anaconda2\\lib\\site-packages\\sklearn\\linear_model\\randomized_l1.py:53: DeprecationWarning: This function is deprecated. Please call randint(0, 1 + 1) instead\n",
      "  for _ in range(n_resampling)):\n",
      "C:\\Users\\semen\\Anaconda2\\lib\\site-packages\\sklearn\\linear_model\\randomized_l1.py:53: DeprecationWarning: This function is deprecated. Please call randint(0, 1 + 1) instead\n",
      "  for _ in range(n_resampling)):\n",
      "C:\\Users\\semen\\Anaconda2\\lib\\site-packages\\sklearn\\linear_model\\randomized_l1.py:53: DeprecationWarning: This function is deprecated. Please call randint(0, 1 + 1) instead\n",
      "  for _ in range(n_resampling)):\n",
      "C:\\Users\\semen\\Anaconda2\\lib\\site-packages\\sklearn\\linear_model\\randomized_l1.py:53: DeprecationWarning: This function is deprecated. Please call randint(0, 1 + 1) instead\n",
      "  for _ in range(n_resampling)):\n",
      "C:\\Users\\semen\\Anaconda2\\lib\\site-packages\\sklearn\\linear_model\\randomized_l1.py:53: DeprecationWarning: This function is deprecated. Please call randint(0, 1 + 1) instead\n",
      "  for _ in range(n_resampling)):\n",
      "C:\\Users\\semen\\Anaconda2\\lib\\site-packages\\sklearn\\linear_model\\randomized_l1.py:53: DeprecationWarning: This function is deprecated. Please call randint(0, 1 + 1) instead\n",
      "  for _ in range(n_resampling)):\n",
      "C:\\Users\\semen\\Anaconda2\\lib\\site-packages\\sklearn\\linear_model\\randomized_l1.py:53: DeprecationWarning: This function is deprecated. Please call randint(0, 1 + 1) instead\n",
      "  for _ in range(n_resampling)):\n",
      "C:\\Users\\semen\\Anaconda2\\lib\\site-packages\\sklearn\\linear_model\\randomized_l1.py:53: DeprecationWarning: This function is deprecated. Please call randint(0, 1 + 1) instead\n",
      "  for _ in range(n_resampling)):\n",
      "C:\\Users\\semen\\Anaconda2\\lib\\site-packages\\sklearn\\linear_model\\randomized_l1.py:53: DeprecationWarning: This function is deprecated. Please call randint(0, 1 + 1) instead\n",
      "  for _ in range(n_resampling)):\n",
      "C:\\Users\\semen\\Anaconda2\\lib\\site-packages\\sklearn\\linear_model\\randomized_l1.py:53: DeprecationWarning: This function is deprecated. Please call randint(0, 1 + 1) instead\n",
      "  for _ in range(n_resampling)):\n",
      "C:\\Users\\semen\\Anaconda2\\lib\\site-packages\\sklearn\\linear_model\\randomized_l1.py:53: DeprecationWarning: This function is deprecated. Please call randint(0, 1 + 1) instead\n",
      "  for _ in range(n_resampling)):\n",
      "C:\\Users\\semen\\Anaconda2\\lib\\site-packages\\sklearn\\linear_model\\randomized_l1.py:53: DeprecationWarning: This function is deprecated. Please call randint(0, 1 + 1) instead\n",
      "  for _ in range(n_resampling)):\n",
      "C:\\Users\\semen\\Anaconda2\\lib\\site-packages\\sklearn\\linear_model\\randomized_l1.py:53: DeprecationWarning: This function is deprecated. Please call randint(0, 1 + 1) instead\n",
      "  for _ in range(n_resampling)):\n",
      "C:\\Users\\semen\\Anaconda2\\lib\\site-packages\\sklearn\\linear_model\\randomized_l1.py:53: DeprecationWarning: This function is deprecated. Please call randint(0, 1 + 1) instead\n",
      "  for _ in range(n_resampling)):\n",
      "C:\\Users\\semen\\Anaconda2\\lib\\site-packages\\sklearn\\linear_model\\randomized_l1.py:53: DeprecationWarning: This function is deprecated. Please call randint(0, 1 + 1) instead\n",
      "  for _ in range(n_resampling)):\n",
      "C:\\Users\\semen\\Anaconda2\\lib\\site-packages\\sklearn\\linear_model\\randomized_l1.py:53: DeprecationWarning: This function is deprecated. Please call randint(0, 1 + 1) instead\n",
      "  for _ in range(n_resampling)):\n",
      "C:\\Users\\semen\\Anaconda2\\lib\\site-packages\\sklearn\\linear_model\\randomized_l1.py:53: DeprecationWarning: This function is deprecated. Please call randint(0, 1 + 1) instead\n",
      "  for _ in range(n_resampling)):\n",
      "C:\\Users\\semen\\Anaconda2\\lib\\site-packages\\sklearn\\linear_model\\randomized_l1.py:53: DeprecationWarning: This function is deprecated. Please call randint(0, 1 + 1) instead\n",
      "  for _ in range(n_resampling)):\n",
      "C:\\Users\\semen\\Anaconda2\\lib\\site-packages\\sklearn\\linear_model\\randomized_l1.py:53: DeprecationWarning: This function is deprecated. Please call randint(0, 1 + 1) instead\n",
      "  for _ in range(n_resampling)):\n",
      "C:\\Users\\semen\\Anaconda2\\lib\\site-packages\\sklearn\\linear_model\\randomized_l1.py:53: DeprecationWarning: This function is deprecated. Please call randint(0, 1 + 1) instead\n",
      "  for _ in range(n_resampling)):\n",
      "C:\\Users\\semen\\Anaconda2\\lib\\site-packages\\sklearn\\linear_model\\randomized_l1.py:53: DeprecationWarning: This function is deprecated. Please call randint(0, 1 + 1) instead\n",
      "  for _ in range(n_resampling)):\n",
      "C:\\Users\\semen\\Anaconda2\\lib\\site-packages\\sklearn\\linear_model\\randomized_l1.py:53: DeprecationWarning: This function is deprecated. Please call randint(0, 1 + 1) instead\n",
      "  for _ in range(n_resampling)):\n",
      "C:\\Users\\semen\\Anaconda2\\lib\\site-packages\\sklearn\\linear_model\\randomized_l1.py:53: DeprecationWarning: This function is deprecated. Please call randint(0, 1 + 1) instead\n",
      "  for _ in range(n_resampling)):\n",
      "C:\\Users\\semen\\Anaconda2\\lib\\site-packages\\sklearn\\linear_model\\randomized_l1.py:53: DeprecationWarning: This function is deprecated. Please call randint(0, 1 + 1) instead\n",
      "  for _ in range(n_resampling)):\n",
      "C:\\Users\\semen\\Anaconda2\\lib\\site-packages\\sklearn\\linear_model\\randomized_l1.py:53: DeprecationWarning: This function is deprecated. Please call randint(0, 1 + 1) instead\n",
      "  for _ in range(n_resampling)):\n",
      "C:\\Users\\semen\\Anaconda2\\lib\\site-packages\\sklearn\\linear_model\\randomized_l1.py:53: DeprecationWarning: This function is deprecated. Please call randint(0, 1 + 1) instead\n",
      "  for _ in range(n_resampling)):\n",
      "C:\\Users\\semen\\Anaconda2\\lib\\site-packages\\sklearn\\linear_model\\randomized_l1.py:53: DeprecationWarning: This function is deprecated. Please call randint(0, 1 + 1) instead\n",
      "  for _ in range(n_resampling)):\n",
      "C:\\Users\\semen\\Anaconda2\\lib\\site-packages\\sklearn\\linear_model\\randomized_l1.py:53: DeprecationWarning: This function is deprecated. Please call randint(0, 1 + 1) instead\n",
      "  for _ in range(n_resampling)):\n",
      "C:\\Users\\semen\\Anaconda2\\lib\\site-packages\\sklearn\\linear_model\\randomized_l1.py:53: DeprecationWarning: This function is deprecated. Please call randint(0, 1 + 1) instead\n",
      "  for _ in range(n_resampling)):\n",
      "C:\\Users\\semen\\Anaconda2\\lib\\site-packages\\sklearn\\linear_model\\randomized_l1.py:53: DeprecationWarning: This function is deprecated. Please call randint(0, 1 + 1) instead\n",
      "  for _ in range(n_resampling)):\n",
      "C:\\Users\\semen\\Anaconda2\\lib\\site-packages\\sklearn\\linear_model\\randomized_l1.py:53: DeprecationWarning: This function is deprecated. Please call randint(0, 1 + 1) instead\n",
      "  for _ in range(n_resampling)):\n",
      "C:\\Users\\semen\\Anaconda2\\lib\\site-packages\\sklearn\\linear_model\\randomized_l1.py:53: DeprecationWarning: This function is deprecated. Please call randint(0, 1 + 1) instead\n",
      "  for _ in range(n_resampling)):\n",
      "C:\\Users\\semen\\Anaconda2\\lib\\site-packages\\sklearn\\linear_model\\randomized_l1.py:53: DeprecationWarning: This function is deprecated. Please call randint(0, 1 + 1) instead\n",
      "  for _ in range(n_resampling)):\n",
      "C:\\Users\\semen\\Anaconda2\\lib\\site-packages\\sklearn\\linear_model\\randomized_l1.py:53: DeprecationWarning: This function is deprecated. Please call randint(0, 1 + 1) instead\n",
      "  for _ in range(n_resampling)):\n",
      "C:\\Users\\semen\\Anaconda2\\lib\\site-packages\\sklearn\\linear_model\\randomized_l1.py:53: DeprecationWarning: This function is deprecated. Please call randint(0, 1 + 1) instead\n",
      "  for _ in range(n_resampling)):\n",
      "C:\\Users\\semen\\Anaconda2\\lib\\site-packages\\sklearn\\linear_model\\randomized_l1.py:53: DeprecationWarning: This function is deprecated. Please call randint(0, 1 + 1) instead\n",
      "  for _ in range(n_resampling)):\n",
      "C:\\Users\\semen\\Anaconda2\\lib\\site-packages\\sklearn\\linear_model\\randomized_l1.py:53: DeprecationWarning: This function is deprecated. Please call randint(0, 1 + 1) instead\n",
      "  for _ in range(n_resampling)):\n",
      "C:\\Users\\semen\\Anaconda2\\lib\\site-packages\\sklearn\\linear_model\\randomized_l1.py:53: DeprecationWarning: This function is deprecated. Please call randint(0, 1 + 1) instead\n",
      "  for _ in range(n_resampling)):\n",
      "C:\\Users\\semen\\Anaconda2\\lib\\site-packages\\sklearn\\linear_model\\randomized_l1.py:53: DeprecationWarning: This function is deprecated. Please call randint(0, 1 + 1) instead\n",
      "  for _ in range(n_resampling)):\n",
      "C:\\Users\\semen\\Anaconda2\\lib\\site-packages\\sklearn\\linear_model\\randomized_l1.py:53: DeprecationWarning: This function is deprecated. Please call randint(0, 1 + 1) instead\n",
      "  for _ in range(n_resampling)):\n",
      "C:\\Users\\semen\\Anaconda2\\lib\\site-packages\\sklearn\\linear_model\\randomized_l1.py:53: DeprecationWarning: This function is deprecated. Please call randint(0, 1 + 1) instead\n",
      "  for _ in range(n_resampling)):\n",
      "C:\\Users\\semen\\Anaconda2\\lib\\site-packages\\sklearn\\linear_model\\randomized_l1.py:53: DeprecationWarning: This function is deprecated. Please call randint(0, 1 + 1) instead\n",
      "  for _ in range(n_resampling)):\n",
      "C:\\Users\\semen\\Anaconda2\\lib\\site-packages\\sklearn\\linear_model\\randomized_l1.py:53: DeprecationWarning: This function is deprecated. Please call randint(0, 1 + 1) instead\n",
      "  for _ in range(n_resampling)):\n",
      "C:\\Users\\semen\\Anaconda2\\lib\\site-packages\\sklearn\\linear_model\\randomized_l1.py:53: DeprecationWarning: This function is deprecated. Please call randint(0, 1 + 1) instead\n",
      "  for _ in range(n_resampling)):\n",
      "C:\\Users\\semen\\Anaconda2\\lib\\site-packages\\sklearn\\linear_model\\randomized_l1.py:53: DeprecationWarning: This function is deprecated. Please call randint(0, 1 + 1) instead\n",
      "  for _ in range(n_resampling)):\n",
      "C:\\Users\\semen\\Anaconda2\\lib\\site-packages\\sklearn\\linear_model\\randomized_l1.py:53: DeprecationWarning: This function is deprecated. Please call randint(0, 1 + 1) instead\n",
      "  for _ in range(n_resampling)):\n",
      "C:\\Users\\semen\\Anaconda2\\lib\\site-packages\\sklearn\\linear_model\\randomized_l1.py:53: DeprecationWarning: This function is deprecated. Please call randint(0, 1 + 1) instead\n",
      "  for _ in range(n_resampling)):\n",
      "C:\\Users\\semen\\Anaconda2\\lib\\site-packages\\sklearn\\linear_model\\randomized_l1.py:53: DeprecationWarning: This function is deprecated. Please call randint(0, 1 + 1) instead\n",
      "  for _ in range(n_resampling)):\n",
      "C:\\Users\\semen\\Anaconda2\\lib\\site-packages\\sklearn\\linear_model\\randomized_l1.py:53: DeprecationWarning: This function is deprecated. Please call randint(0, 1 + 1) instead\n",
      "  for _ in range(n_resampling)):\n",
      "C:\\Users\\semen\\Anaconda2\\lib\\site-packages\\sklearn\\linear_model\\randomized_l1.py:53: DeprecationWarning: This function is deprecated. Please call randint(0, 1 + 1) instead\n",
      "  for _ in range(n_resampling)):\n",
      "C:\\Users\\semen\\Anaconda2\\lib\\site-packages\\sklearn\\linear_model\\randomized_l1.py:53: DeprecationWarning: This function is deprecated. Please call randint(0, 1 + 1) instead\n",
      "  for _ in range(n_resampling)):\n",
      "C:\\Users\\semen\\Anaconda2\\lib\\site-packages\\sklearn\\linear_model\\randomized_l1.py:53: DeprecationWarning: This function is deprecated. Please call randint(0, 1 + 1) instead\n",
      "  for _ in range(n_resampling)):\n",
      "C:\\Users\\semen\\Anaconda2\\lib\\site-packages\\sklearn\\linear_model\\randomized_l1.py:53: DeprecationWarning: This function is deprecated. Please call randint(0, 1 + 1) instead\n",
      "  for _ in range(n_resampling)):\n",
      "C:\\Users\\semen\\Anaconda2\\lib\\site-packages\\sklearn\\linear_model\\randomized_l1.py:53: DeprecationWarning: This function is deprecated. Please call randint(0, 1 + 1) instead\n",
      "  for _ in range(n_resampling)):\n",
      "C:\\Users\\semen\\Anaconda2\\lib\\site-packages\\sklearn\\linear_model\\randomized_l1.py:53: DeprecationWarning: This function is deprecated. Please call randint(0, 1 + 1) instead\n",
      "  for _ in range(n_resampling)):\n",
      "C:\\Users\\semen\\Anaconda2\\lib\\site-packages\\sklearn\\linear_model\\randomized_l1.py:53: DeprecationWarning: This function is deprecated. Please call randint(0, 1 + 1) instead\n",
      "  for _ in range(n_resampling)):\n",
      "C:\\Users\\semen\\Anaconda2\\lib\\site-packages\\sklearn\\linear_model\\randomized_l1.py:53: DeprecationWarning: This function is deprecated. Please call randint(0, 1 + 1) instead\n",
      "  for _ in range(n_resampling)):\n",
      "C:\\Users\\semen\\Anaconda2\\lib\\site-packages\\sklearn\\linear_model\\randomized_l1.py:53: DeprecationWarning: This function is deprecated. Please call randint(0, 1 + 1) instead\n",
      "  for _ in range(n_resampling)):\n",
      "C:\\Users\\semen\\Anaconda2\\lib\\site-packages\\sklearn\\linear_model\\randomized_l1.py:53: DeprecationWarning: This function is deprecated. Please call randint(0, 1 + 1) instead\n",
      "  for _ in range(n_resampling)):\n",
      "C:\\Users\\semen\\Anaconda2\\lib\\site-packages\\sklearn\\linear_model\\randomized_l1.py:53: DeprecationWarning: This function is deprecated. Please call randint(0, 1 + 1) instead\n",
      "  for _ in range(n_resampling)):\n",
      "C:\\Users\\semen\\Anaconda2\\lib\\site-packages\\sklearn\\linear_model\\randomized_l1.py:53: DeprecationWarning: This function is deprecated. Please call randint(0, 1 + 1) instead\n",
      "  for _ in range(n_resampling)):\n",
      "C:\\Users\\semen\\Anaconda2\\lib\\site-packages\\sklearn\\linear_model\\randomized_l1.py:53: DeprecationWarning: This function is deprecated. Please call randint(0, 1 + 1) instead\n",
      "  for _ in range(n_resampling)):\n",
      "C:\\Users\\semen\\Anaconda2\\lib\\site-packages\\sklearn\\linear_model\\randomized_l1.py:53: DeprecationWarning: This function is deprecated. Please call randint(0, 1 + 1) instead\n",
      "  for _ in range(n_resampling)):\n",
      "C:\\Users\\semen\\Anaconda2\\lib\\site-packages\\sklearn\\linear_model\\randomized_l1.py:53: DeprecationWarning: This function is deprecated. Please call randint(0, 1 + 1) instead\n",
      "  for _ in range(n_resampling)):\n",
      "C:\\Users\\semen\\Anaconda2\\lib\\site-packages\\sklearn\\linear_model\\randomized_l1.py:53: DeprecationWarning: This function is deprecated. Please call randint(0, 1 + 1) instead\n",
      "  for _ in range(n_resampling)):\n",
      "C:\\Users\\semen\\Anaconda2\\lib\\site-packages\\sklearn\\linear_model\\randomized_l1.py:53: DeprecationWarning: This function is deprecated. Please call randint(0, 1 + 1) instead\n",
      "  for _ in range(n_resampling)):\n",
      "C:\\Users\\semen\\Anaconda2\\lib\\site-packages\\sklearn\\linear_model\\randomized_l1.py:53: DeprecationWarning: This function is deprecated. Please call randint(0, 1 + 1) instead\n",
      "  for _ in range(n_resampling)):\n",
      "C:\\Users\\semen\\Anaconda2\\lib\\site-packages\\sklearn\\linear_model\\randomized_l1.py:53: DeprecationWarning: This function is deprecated. Please call randint(0, 1 + 1) instead\n",
      "  for _ in range(n_resampling)):\n",
      "C:\\Users\\semen\\Anaconda2\\lib\\site-packages\\sklearn\\linear_model\\randomized_l1.py:53: DeprecationWarning: This function is deprecated. Please call randint(0, 1 + 1) instead\n",
      "  for _ in range(n_resampling)):\n",
      "C:\\Users\\semen\\Anaconda2\\lib\\site-packages\\sklearn\\linear_model\\randomized_l1.py:53: DeprecationWarning: This function is deprecated. Please call randint(0, 1 + 1) instead\n",
      "  for _ in range(n_resampling)):\n",
      "C:\\Users\\semen\\Anaconda2\\lib\\site-packages\\sklearn\\linear_model\\randomized_l1.py:53: DeprecationWarning: This function is deprecated. Please call randint(0, 1 + 1) instead\n",
      "  for _ in range(n_resampling)):\n",
      "C:\\Users\\semen\\Anaconda2\\lib\\site-packages\\sklearn\\linear_model\\randomized_l1.py:53: DeprecationWarning: This function is deprecated. Please call randint(0, 1 + 1) instead\n",
      "  for _ in range(n_resampling)):\n",
      "C:\\Users\\semen\\Anaconda2\\lib\\site-packages\\sklearn\\linear_model\\randomized_l1.py:53: DeprecationWarning: This function is deprecated. Please call randint(0, 1 + 1) instead\n",
      "  for _ in range(n_resampling)):\n",
      "C:\\Users\\semen\\Anaconda2\\lib\\site-packages\\sklearn\\linear_model\\randomized_l1.py:53: DeprecationWarning: This function is deprecated. Please call randint(0, 1 + 1) instead\n",
      "  for _ in range(n_resampling)):\n",
      "C:\\Users\\semen\\Anaconda2\\lib\\site-packages\\sklearn\\linear_model\\randomized_l1.py:53: DeprecationWarning: This function is deprecated. Please call randint(0, 1 + 1) instead\n",
      "  for _ in range(n_resampling)):\n",
      "C:\\Users\\semen\\Anaconda2\\lib\\site-packages\\sklearn\\linear_model\\randomized_l1.py:53: DeprecationWarning: This function is deprecated. Please call randint(0, 1 + 1) instead\n",
      "  for _ in range(n_resampling)):\n",
      "C:\\Users\\semen\\Anaconda2\\lib\\site-packages\\sklearn\\linear_model\\randomized_l1.py:53: DeprecationWarning: This function is deprecated. Please call randint(0, 1 + 1) instead\n",
      "  for _ in range(n_resampling)):\n",
      "C:\\Users\\semen\\Anaconda2\\lib\\site-packages\\sklearn\\linear_model\\randomized_l1.py:53: DeprecationWarning: This function is deprecated. Please call randint(0, 1 + 1) instead\n",
      "  for _ in range(n_resampling)):\n",
      "C:\\Users\\semen\\Anaconda2\\lib\\site-packages\\sklearn\\linear_model\\randomized_l1.py:53: DeprecationWarning: This function is deprecated. Please call randint(0, 1 + 1) instead\n",
      "  for _ in range(n_resampling)):\n",
      "C:\\Users\\semen\\Anaconda2\\lib\\site-packages\\sklearn\\linear_model\\randomized_l1.py:53: DeprecationWarning: This function is deprecated. Please call randint(0, 1 + 1) instead\n",
      "  for _ in range(n_resampling)):\n",
      "C:\\Users\\semen\\Anaconda2\\lib\\site-packages\\sklearn\\linear_model\\randomized_l1.py:53: DeprecationWarning: This function is deprecated. Please call randint(0, 1 + 1) instead\n",
      "  for _ in range(n_resampling)):\n",
      "C:\\Users\\semen\\Anaconda2\\lib\\site-packages\\sklearn\\linear_model\\randomized_l1.py:53: DeprecationWarning: This function is deprecated. Please call randint(0, 1 + 1) instead\n",
      "  for _ in range(n_resampling)):\n",
      "C:\\Users\\semen\\Anaconda2\\lib\\site-packages\\sklearn\\linear_model\\randomized_l1.py:53: DeprecationWarning: This function is deprecated. Please call randint(0, 1 + 1) instead\n",
      "  for _ in range(n_resampling)):\n",
      "C:\\Users\\semen\\Anaconda2\\lib\\site-packages\\sklearn\\linear_model\\randomized_l1.py:53: DeprecationWarning: This function is deprecated. Please call randint(0, 1 + 1) instead\n",
      "  for _ in range(n_resampling)):\n",
      "C:\\Users\\semen\\Anaconda2\\lib\\site-packages\\sklearn\\linear_model\\randomized_l1.py:53: DeprecationWarning: This function is deprecated. Please call randint(0, 1 + 1) instead\n",
      "  for _ in range(n_resampling)):\n",
      "C:\\Users\\semen\\Anaconda2\\lib\\site-packages\\sklearn\\linear_model\\randomized_l1.py:53: DeprecationWarning: This function is deprecated. Please call randint(0, 1 + 1) instead\n",
      "  for _ in range(n_resampling)):\n",
      "C:\\Users\\semen\\Anaconda2\\lib\\site-packages\\sklearn\\linear_model\\randomized_l1.py:53: DeprecationWarning: This function is deprecated. Please call randint(0, 1 + 1) instead\n",
      "  for _ in range(n_resampling)):\n",
      "C:\\Users\\semen\\Anaconda2\\lib\\site-packages\\sklearn\\linear_model\\randomized_l1.py:53: DeprecationWarning: This function is deprecated. Please call randint(0, 1 + 1) instead\n",
      "  for _ in range(n_resampling)):\n",
      "C:\\Users\\semen\\Anaconda2\\lib\\site-packages\\sklearn\\linear_model\\randomized_l1.py:53: DeprecationWarning: This function is deprecated. Please call randint(0, 1 + 1) instead\n",
      "  for _ in range(n_resampling)):\n",
      "C:\\Users\\semen\\Anaconda2\\lib\\site-packages\\sklearn\\linear_model\\randomized_l1.py:53: DeprecationWarning: This function is deprecated. Please call randint(0, 1 + 1) instead\n",
      "  for _ in range(n_resampling)):\n",
      "C:\\Users\\semen\\Anaconda2\\lib\\site-packages\\sklearn\\linear_model\\randomized_l1.py:53: DeprecationWarning: This function is deprecated. Please call randint(0, 1 + 1) instead\n",
      "  for _ in range(n_resampling)):\n",
      "C:\\Users\\semen\\Anaconda2\\lib\\site-packages\\sklearn\\linear_model\\randomized_l1.py:53: DeprecationWarning: This function is deprecated. Please call randint(0, 1 + 1) instead\n",
      "  for _ in range(n_resampling)):\n",
      "C:\\Users\\semen\\Anaconda2\\lib\\site-packages\\sklearn\\linear_model\\randomized_l1.py:53: DeprecationWarning: This function is deprecated. Please call randint(0, 1 + 1) instead\n",
      "  for _ in range(n_resampling)):\n",
      "C:\\Users\\semen\\Anaconda2\\lib\\site-packages\\sklearn\\linear_model\\randomized_l1.py:53: DeprecationWarning: This function is deprecated. Please call randint(0, 1 + 1) instead\n",
      "  for _ in range(n_resampling)):\n",
      "C:\\Users\\semen\\Anaconda2\\lib\\site-packages\\sklearn\\linear_model\\randomized_l1.py:53: DeprecationWarning: This function is deprecated. Please call randint(0, 1 + 1) instead\n",
      "  for _ in range(n_resampling)):\n",
      "C:\\Users\\semen\\Anaconda2\\lib\\site-packages\\sklearn\\linear_model\\randomized_l1.py:53: DeprecationWarning: This function is deprecated. Please call randint(0, 1 + 1) instead\n",
      "  for _ in range(n_resampling)):\n",
      "C:\\Users\\semen\\Anaconda2\\lib\\site-packages\\sklearn\\linear_model\\randomized_l1.py:53: DeprecationWarning: This function is deprecated. Please call randint(0, 1 + 1) instead\n",
      "  for _ in range(n_resampling)):\n",
      "C:\\Users\\semen\\Anaconda2\\lib\\site-packages\\sklearn\\linear_model\\randomized_l1.py:53: DeprecationWarning: This function is deprecated. Please call randint(0, 1 + 1) instead\n",
      "  for _ in range(n_resampling)):\n",
      "C:\\Users\\semen\\Anaconda2\\lib\\site-packages\\sklearn\\linear_model\\randomized_l1.py:53: DeprecationWarning: This function is deprecated. Please call randint(0, 1 + 1) instead\n",
      "  for _ in range(n_resampling)):\n",
      "C:\\Users\\semen\\Anaconda2\\lib\\site-packages\\sklearn\\linear_model\\randomized_l1.py:53: DeprecationWarning: This function is deprecated. Please call randint(0, 1 + 1) instead\n",
      "  for _ in range(n_resampling)):\n",
      "C:\\Users\\semen\\Anaconda2\\lib\\site-packages\\sklearn\\linear_model\\randomized_l1.py:53: DeprecationWarning: This function is deprecated. Please call randint(0, 1 + 1) instead\n",
      "  for _ in range(n_resampling)):\n",
      "C:\\Users\\semen\\Anaconda2\\lib\\site-packages\\sklearn\\linear_model\\randomized_l1.py:53: DeprecationWarning: This function is deprecated. Please call randint(0, 1 + 1) instead\n",
      "  for _ in range(n_resampling)):\n",
      "C:\\Users\\semen\\Anaconda2\\lib\\site-packages\\sklearn\\linear_model\\randomized_l1.py:53: DeprecationWarning: This function is deprecated. Please call randint(0, 1 + 1) instead\n",
      "  for _ in range(n_resampling)):\n",
      "C:\\Users\\semen\\Anaconda2\\lib\\site-packages\\sklearn\\linear_model\\randomized_l1.py:53: DeprecationWarning: This function is deprecated. Please call randint(0, 1 + 1) instead\n",
      "  for _ in range(n_resampling)):\n",
      "C:\\Users\\semen\\Anaconda2\\lib\\site-packages\\sklearn\\linear_model\\randomized_l1.py:53: DeprecationWarning: This function is deprecated. Please call randint(0, 1 + 1) instead\n",
      "  for _ in range(n_resampling)):\n",
      "C:\\Users\\semen\\Anaconda2\\lib\\site-packages\\sklearn\\linear_model\\randomized_l1.py:53: DeprecationWarning: This function is deprecated. Please call randint(0, 1 + 1) instead\n",
      "  for _ in range(n_resampling)):\n",
      "C:\\Users\\semen\\Anaconda2\\lib\\site-packages\\sklearn\\linear_model\\randomized_l1.py:53: DeprecationWarning: This function is deprecated. Please call randint(0, 1 + 1) instead\n",
      "  for _ in range(n_resampling)):\n",
      "C:\\Users\\semen\\Anaconda2\\lib\\site-packages\\sklearn\\linear_model\\randomized_l1.py:53: DeprecationWarning: This function is deprecated. Please call randint(0, 1 + 1) instead\n",
      "  for _ in range(n_resampling)):\n",
      "C:\\Users\\semen\\Anaconda2\\lib\\site-packages\\sklearn\\linear_model\\randomized_l1.py:53: DeprecationWarning: This function is deprecated. Please call randint(0, 1 + 1) instead\n",
      "  for _ in range(n_resampling)):\n",
      "C:\\Users\\semen\\Anaconda2\\lib\\site-packages\\sklearn\\linear_model\\randomized_l1.py:53: DeprecationWarning: This function is deprecated. Please call randint(0, 1 + 1) instead\n",
      "  for _ in range(n_resampling)):\n",
      "C:\\Users\\semen\\Anaconda2\\lib\\site-packages\\sklearn\\linear_model\\randomized_l1.py:53: DeprecationWarning: This function is deprecated. Please call randint(0, 1 + 1) instead\n",
      "  for _ in range(n_resampling)):\n",
      "C:\\Users\\semen\\Anaconda2\\lib\\site-packages\\sklearn\\linear_model\\randomized_l1.py:53: DeprecationWarning: This function is deprecated. Please call randint(0, 1 + 1) instead\n",
      "  for _ in range(n_resampling)):\n",
      "C:\\Users\\semen\\Anaconda2\\lib\\site-packages\\sklearn\\linear_model\\randomized_l1.py:53: DeprecationWarning: This function is deprecated. Please call randint(0, 1 + 1) instead\n",
      "  for _ in range(n_resampling)):\n",
      "C:\\Users\\semen\\Anaconda2\\lib\\site-packages\\sklearn\\linear_model\\randomized_l1.py:53: DeprecationWarning: This function is deprecated. Please call randint(0, 1 + 1) instead\n",
      "  for _ in range(n_resampling)):\n",
      "C:\\Users\\semen\\Anaconda2\\lib\\site-packages\\sklearn\\linear_model\\randomized_l1.py:53: DeprecationWarning: This function is deprecated. Please call randint(0, 1 + 1) instead\n",
      "  for _ in range(n_resampling)):\n",
      "C:\\Users\\semen\\Anaconda2\\lib\\site-packages\\sklearn\\linear_model\\randomized_l1.py:53: DeprecationWarning: This function is deprecated. Please call randint(0, 1 + 1) instead\n",
      "  for _ in range(n_resampling)):\n",
      "C:\\Users\\semen\\Anaconda2\\lib\\site-packages\\sklearn\\linear_model\\randomized_l1.py:53: DeprecationWarning: This function is deprecated. Please call randint(0, 1 + 1) instead\n",
      "  for _ in range(n_resampling)):\n",
      "C:\\Users\\semen\\Anaconda2\\lib\\site-packages\\sklearn\\linear_model\\randomized_l1.py:53: DeprecationWarning: This function is deprecated. Please call randint(0, 1 + 1) instead\n",
      "  for _ in range(n_resampling)):\n",
      "C:\\Users\\semen\\Anaconda2\\lib\\site-packages\\sklearn\\linear_model\\randomized_l1.py:53: DeprecationWarning: This function is deprecated. Please call randint(0, 1 + 1) instead\n",
      "  for _ in range(n_resampling)):\n",
      "C:\\Users\\semen\\Anaconda2\\lib\\site-packages\\sklearn\\linear_model\\randomized_l1.py:53: DeprecationWarning: This function is deprecated. Please call randint(0, 1 + 1) instead\n",
      "  for _ in range(n_resampling)):\n",
      "C:\\Users\\semen\\Anaconda2\\lib\\site-packages\\sklearn\\linear_model\\randomized_l1.py:53: DeprecationWarning: This function is deprecated. Please call randint(0, 1 + 1) instead\n",
      "  for _ in range(n_resampling)):\n",
      "C:\\Users\\semen\\Anaconda2\\lib\\site-packages\\sklearn\\linear_model\\randomized_l1.py:53: DeprecationWarning: This function is deprecated. Please call randint(0, 1 + 1) instead\n",
      "  for _ in range(n_resampling)):\n",
      "C:\\Users\\semen\\Anaconda2\\lib\\site-packages\\sklearn\\linear_model\\randomized_l1.py:53: DeprecationWarning: This function is deprecated. Please call randint(0, 1 + 1) instead\n",
      "  for _ in range(n_resampling)):\n",
      "C:\\Users\\semen\\Anaconda2\\lib\\site-packages\\sklearn\\linear_model\\randomized_l1.py:53: DeprecationWarning: This function is deprecated. Please call randint(0, 1 + 1) instead\n",
      "  for _ in range(n_resampling)):\n",
      "C:\\Users\\semen\\Anaconda2\\lib\\site-packages\\sklearn\\linear_model\\randomized_l1.py:53: DeprecationWarning: This function is deprecated. Please call randint(0, 1 + 1) instead\n",
      "  for _ in range(n_resampling)):\n",
      "C:\\Users\\semen\\Anaconda2\\lib\\site-packages\\sklearn\\linear_model\\randomized_l1.py:53: DeprecationWarning: This function is deprecated. Please call randint(0, 1 + 1) instead\n",
      "  for _ in range(n_resampling)):\n",
      "C:\\Users\\semen\\Anaconda2\\lib\\site-packages\\sklearn\\linear_model\\randomized_l1.py:53: DeprecationWarning: This function is deprecated. Please call randint(0, 1 + 1) instead\n",
      "  for _ in range(n_resampling)):\n",
      "C:\\Users\\semen\\Anaconda2\\lib\\site-packages\\sklearn\\linear_model\\randomized_l1.py:53: DeprecationWarning: This function is deprecated. Please call randint(0, 1 + 1) instead\n",
      "  for _ in range(n_resampling)):\n",
      "C:\\Users\\semen\\Anaconda2\\lib\\site-packages\\sklearn\\linear_model\\randomized_l1.py:53: DeprecationWarning: This function is deprecated. Please call randint(0, 1 + 1) instead\n",
      "  for _ in range(n_resampling)):\n",
      "C:\\Users\\semen\\Anaconda2\\lib\\site-packages\\sklearn\\linear_model\\randomized_l1.py:53: DeprecationWarning: This function is deprecated. Please call randint(0, 1 + 1) instead\n",
      "  for _ in range(n_resampling)):\n",
      "C:\\Users\\semen\\Anaconda2\\lib\\site-packages\\sklearn\\linear_model\\randomized_l1.py:53: DeprecationWarning: This function is deprecated. Please call randint(0, 1 + 1) instead\n",
      "  for _ in range(n_resampling)):\n",
      "C:\\Users\\semen\\Anaconda2\\lib\\site-packages\\sklearn\\linear_model\\randomized_l1.py:53: DeprecationWarning: This function is deprecated. Please call randint(0, 1 + 1) instead\n",
      "  for _ in range(n_resampling)):\n",
      "C:\\Users\\semen\\Anaconda2\\lib\\site-packages\\sklearn\\linear_model\\randomized_l1.py:53: DeprecationWarning: This function is deprecated. Please call randint(0, 1 + 1) instead\n",
      "  for _ in range(n_resampling)):\n",
      "C:\\Users\\semen\\Anaconda2\\lib\\site-packages\\sklearn\\linear_model\\randomized_l1.py:53: DeprecationWarning: This function is deprecated. Please call randint(0, 1 + 1) instead\n",
      "  for _ in range(n_resampling)):\n",
      "C:\\Users\\semen\\Anaconda2\\lib\\site-packages\\sklearn\\linear_model\\randomized_l1.py:53: DeprecationWarning: This function is deprecated. Please call randint(0, 1 + 1) instead\n",
      "  for _ in range(n_resampling)):\n",
      "C:\\Users\\semen\\Anaconda2\\lib\\site-packages\\sklearn\\linear_model\\randomized_l1.py:53: DeprecationWarning: This function is deprecated. Please call randint(0, 1 + 1) instead\n",
      "  for _ in range(n_resampling)):\n",
      "C:\\Users\\semen\\Anaconda2\\lib\\site-packages\\sklearn\\linear_model\\randomized_l1.py:53: DeprecationWarning: This function is deprecated. Please call randint(0, 1 + 1) instead\n",
      "  for _ in range(n_resampling)):\n",
      "C:\\Users\\semen\\Anaconda2\\lib\\site-packages\\sklearn\\linear_model\\randomized_l1.py:53: DeprecationWarning: This function is deprecated. Please call randint(0, 1 + 1) instead\n",
      "  for _ in range(n_resampling)):\n",
      "C:\\Users\\semen\\Anaconda2\\lib\\site-packages\\sklearn\\linear_model\\randomized_l1.py:53: DeprecationWarning: This function is deprecated. Please call randint(0, 1 + 1) instead\n",
      "  for _ in range(n_resampling)):\n",
      "C:\\Users\\semen\\Anaconda2\\lib\\site-packages\\sklearn\\linear_model\\randomized_l1.py:53: DeprecationWarning: This function is deprecated. Please call randint(0, 1 + 1) instead\n",
      "  for _ in range(n_resampling)):\n",
      "C:\\Users\\semen\\Anaconda2\\lib\\site-packages\\sklearn\\linear_model\\randomized_l1.py:53: DeprecationWarning: This function is deprecated. Please call randint(0, 1 + 1) instead\n",
      "  for _ in range(n_resampling)):\n",
      "C:\\Users\\semen\\Anaconda2\\lib\\site-packages\\sklearn\\linear_model\\randomized_l1.py:53: DeprecationWarning: This function is deprecated. Please call randint(0, 1 + 1) instead\n",
      "  for _ in range(n_resampling)):\n",
      "C:\\Users\\semen\\Anaconda2\\lib\\site-packages\\sklearn\\linear_model\\randomized_l1.py:53: DeprecationWarning: This function is deprecated. Please call randint(0, 1 + 1) instead\n",
      "  for _ in range(n_resampling)):\n",
      "C:\\Users\\semen\\Anaconda2\\lib\\site-packages\\sklearn\\linear_model\\randomized_l1.py:53: DeprecationWarning: This function is deprecated. Please call randint(0, 1 + 1) instead\n",
      "  for _ in range(n_resampling)):\n",
      "C:\\Users\\semen\\Anaconda2\\lib\\site-packages\\sklearn\\linear_model\\randomized_l1.py:53: DeprecationWarning: This function is deprecated. Please call randint(0, 1 + 1) instead\n",
      "  for _ in range(n_resampling)):\n",
      "C:\\Users\\semen\\Anaconda2\\lib\\site-packages\\sklearn\\linear_model\\randomized_l1.py:53: DeprecationWarning: This function is deprecated. Please call randint(0, 1 + 1) instead\n",
      "  for _ in range(n_resampling)):\n",
      "C:\\Users\\semen\\Anaconda2\\lib\\site-packages\\sklearn\\linear_model\\randomized_l1.py:53: DeprecationWarning: This function is deprecated. Please call randint(0, 1 + 1) instead\n",
      "  for _ in range(n_resampling)):\n",
      "C:\\Users\\semen\\Anaconda2\\lib\\site-packages\\sklearn\\linear_model\\randomized_l1.py:53: DeprecationWarning: This function is deprecated. Please call randint(0, 1 + 1) instead\n",
      "  for _ in range(n_resampling)):\n",
      "C:\\Users\\semen\\Anaconda2\\lib\\site-packages\\sklearn\\linear_model\\randomized_l1.py:53: DeprecationWarning: This function is deprecated. Please call randint(0, 1 + 1) instead\n",
      "  for _ in range(n_resampling)):\n",
      "C:\\Users\\semen\\Anaconda2\\lib\\site-packages\\sklearn\\linear_model\\randomized_l1.py:53: DeprecationWarning: This function is deprecated. Please call randint(0, 1 + 1) instead\n",
      "  for _ in range(n_resampling)):\n",
      "C:\\Users\\semen\\Anaconda2\\lib\\site-packages\\sklearn\\linear_model\\randomized_l1.py:53: DeprecationWarning: This function is deprecated. Please call randint(0, 1 + 1) instead\n",
      "  for _ in range(n_resampling)):\n",
      "C:\\Users\\semen\\Anaconda2\\lib\\site-packages\\sklearn\\linear_model\\randomized_l1.py:53: DeprecationWarning: This function is deprecated. Please call randint(0, 1 + 1) instead\n",
      "  for _ in range(n_resampling)):\n",
      "C:\\Users\\semen\\Anaconda2\\lib\\site-packages\\sklearn\\linear_model\\randomized_l1.py:53: DeprecationWarning: This function is deprecated. Please call randint(0, 1 + 1) instead\n",
      "  for _ in range(n_resampling)):\n",
      "C:\\Users\\semen\\Anaconda2\\lib\\site-packages\\sklearn\\linear_model\\randomized_l1.py:53: DeprecationWarning: This function is deprecated. Please call randint(0, 1 + 1) instead\n",
      "  for _ in range(n_resampling)):\n",
      "C:\\Users\\semen\\Anaconda2\\lib\\site-packages\\sklearn\\linear_model\\randomized_l1.py:53: DeprecationWarning: This function is deprecated. Please call randint(0, 1 + 1) instead\n",
      "  for _ in range(n_resampling)):\n",
      "C:\\Users\\semen\\Anaconda2\\lib\\site-packages\\sklearn\\linear_model\\randomized_l1.py:53: DeprecationWarning: This function is deprecated. Please call randint(0, 1 + 1) instead\n",
      "  for _ in range(n_resampling)):\n",
      "C:\\Users\\semen\\Anaconda2\\lib\\site-packages\\sklearn\\linear_model\\randomized_l1.py:53: DeprecationWarning: This function is deprecated. Please call randint(0, 1 + 1) instead\n",
      "  for _ in range(n_resampling)):\n",
      "C:\\Users\\semen\\Anaconda2\\lib\\site-packages\\sklearn\\linear_model\\randomized_l1.py:53: DeprecationWarning: This function is deprecated. Please call randint(0, 1 + 1) instead\n",
      "  for _ in range(n_resampling)):\n",
      "C:\\Users\\semen\\Anaconda2\\lib\\site-packages\\sklearn\\linear_model\\randomized_l1.py:53: DeprecationWarning: This function is deprecated. Please call randint(0, 1 + 1) instead\n",
      "  for _ in range(n_resampling)):\n",
      "C:\\Users\\semen\\Anaconda2\\lib\\site-packages\\sklearn\\linear_model\\randomized_l1.py:53: DeprecationWarning: This function is deprecated. Please call randint(0, 1 + 1) instead\n",
      "  for _ in range(n_resampling)):\n",
      "C:\\Users\\semen\\Anaconda2\\lib\\site-packages\\sklearn\\linear_model\\randomized_l1.py:53: DeprecationWarning: This function is deprecated. Please call randint(0, 1 + 1) instead\n",
      "  for _ in range(n_resampling)):\n",
      "C:\\Users\\semen\\Anaconda2\\lib\\site-packages\\sklearn\\linear_model\\randomized_l1.py:53: DeprecationWarning: This function is deprecated. Please call randint(0, 1 + 1) instead\n",
      "  for _ in range(n_resampling)):\n",
      "C:\\Users\\semen\\Anaconda2\\lib\\site-packages\\sklearn\\linear_model\\randomized_l1.py:53: DeprecationWarning: This function is deprecated. Please call randint(0, 1 + 1) instead\n",
      "  for _ in range(n_resampling)):\n",
      "C:\\Users\\semen\\Anaconda2\\lib\\site-packages\\sklearn\\linear_model\\randomized_l1.py:53: DeprecationWarning: This function is deprecated. Please call randint(0, 1 + 1) instead\n",
      "  for _ in range(n_resampling)):\n",
      "C:\\Users\\semen\\Anaconda2\\lib\\site-packages\\sklearn\\linear_model\\randomized_l1.py:53: DeprecationWarning: This function is deprecated. Please call randint(0, 1 + 1) instead\n",
      "  for _ in range(n_resampling)):\n",
      "C:\\Users\\semen\\Anaconda2\\lib\\site-packages\\sklearn\\linear_model\\randomized_l1.py:53: DeprecationWarning: This function is deprecated. Please call randint(0, 1 + 1) instead\n",
      "  for _ in range(n_resampling)):\n",
      "C:\\Users\\semen\\Anaconda2\\lib\\site-packages\\sklearn\\linear_model\\randomized_l1.py:53: DeprecationWarning: This function is deprecated. Please call randint(0, 1 + 1) instead\n",
      "  for _ in range(n_resampling)):\n",
      "C:\\Users\\semen\\Anaconda2\\lib\\site-packages\\sklearn\\linear_model\\randomized_l1.py:53: DeprecationWarning: This function is deprecated. Please call randint(0, 1 + 1) instead\n",
      "  for _ in range(n_resampling)):\n",
      "C:\\Users\\semen\\Anaconda2\\lib\\site-packages\\sklearn\\linear_model\\randomized_l1.py:53: DeprecationWarning: This function is deprecated. Please call randint(0, 1 + 1) instead\n",
      "  for _ in range(n_resampling)):\n",
      "C:\\Users\\semen\\Anaconda2\\lib\\site-packages\\sklearn\\linear_model\\randomized_l1.py:53: DeprecationWarning: This function is deprecated. Please call randint(0, 1 + 1) instead\n",
      "  for _ in range(n_resampling)):\n",
      "C:\\Users\\semen\\Anaconda2\\lib\\site-packages\\sklearn\\linear_model\\randomized_l1.py:53: DeprecationWarning: This function is deprecated. Please call randint(0, 1 + 1) instead\n",
      "  for _ in range(n_resampling)):\n",
      "C:\\Users\\semen\\Anaconda2\\lib\\site-packages\\sklearn\\linear_model\\randomized_l1.py:53: DeprecationWarning: This function is deprecated. Please call randint(0, 1 + 1) instead\n",
      "  for _ in range(n_resampling)):\n",
      "C:\\Users\\semen\\Anaconda2\\lib\\site-packages\\sklearn\\linear_model\\randomized_l1.py:53: DeprecationWarning: This function is deprecated. Please call randint(0, 1 + 1) instead\n",
      "  for _ in range(n_resampling)):\n",
      "C:\\Users\\semen\\Anaconda2\\lib\\site-packages\\sklearn\\linear_model\\randomized_l1.py:53: DeprecationWarning: This function is deprecated. Please call randint(0, 1 + 1) instead\n",
      "  for _ in range(n_resampling)):\n",
      "C:\\Users\\semen\\Anaconda2\\lib\\site-packages\\sklearn\\linear_model\\randomized_l1.py:53: DeprecationWarning: This function is deprecated. Please call randint(0, 1 + 1) instead\n",
      "  for _ in range(n_resampling)):\n",
      "C:\\Users\\semen\\Anaconda2\\lib\\site-packages\\sklearn\\linear_model\\randomized_l1.py:53: DeprecationWarning: This function is deprecated. Please call randint(0, 1 + 1) instead\n",
      "  for _ in range(n_resampling)):\n",
      "C:\\Users\\semen\\Anaconda2\\lib\\site-packages\\sklearn\\linear_model\\randomized_l1.py:53: DeprecationWarning: This function is deprecated. Please call randint(0, 1 + 1) instead\n",
      "  for _ in range(n_resampling)):\n",
      "C:\\Users\\semen\\Anaconda2\\lib\\site-packages\\sklearn\\linear_model\\randomized_l1.py:53: DeprecationWarning: This function is deprecated. Please call randint(0, 1 + 1) instead\n",
      "  for _ in range(n_resampling)):\n",
      "C:\\Users\\semen\\Anaconda2\\lib\\site-packages\\sklearn\\linear_model\\randomized_l1.py:53: DeprecationWarning: This function is deprecated. Please call randint(0, 1 + 1) instead\n",
      "  for _ in range(n_resampling)):\n",
      "C:\\Users\\semen\\Anaconda2\\lib\\site-packages\\sklearn\\linear_model\\randomized_l1.py:53: DeprecationWarning: This function is deprecated. Please call randint(0, 1 + 1) instead\n",
      "  for _ in range(n_resampling)):\n",
      "C:\\Users\\semen\\Anaconda2\\lib\\site-packages\\sklearn\\linear_model\\randomized_l1.py:53: DeprecationWarning: This function is deprecated. Please call randint(0, 1 + 1) instead\n",
      "  for _ in range(n_resampling)):\n",
      "C:\\Users\\semen\\Anaconda2\\lib\\site-packages\\sklearn\\linear_model\\randomized_l1.py:53: DeprecationWarning: This function is deprecated. Please call randint(0, 1 + 1) instead\n",
      "  for _ in range(n_resampling)):\n",
      "C:\\Users\\semen\\Anaconda2\\lib\\site-packages\\sklearn\\linear_model\\randomized_l1.py:53: DeprecationWarning: This function is deprecated. Please call randint(0, 1 + 1) instead\n",
      "  for _ in range(n_resampling)):\n",
      "C:\\Users\\semen\\Anaconda2\\lib\\site-packages\\sklearn\\linear_model\\randomized_l1.py:53: DeprecationWarning: This function is deprecated. Please call randint(0, 1 + 1) instead\n",
      "  for _ in range(n_resampling)):\n",
      "C:\\Users\\semen\\Anaconda2\\lib\\site-packages\\sklearn\\linear_model\\randomized_l1.py:53: DeprecationWarning: This function is deprecated. Please call randint(0, 1 + 1) instead\n",
      "  for _ in range(n_resampling)):\n",
      "C:\\Users\\semen\\Anaconda2\\lib\\site-packages\\sklearn\\linear_model\\randomized_l1.py:53: DeprecationWarning: This function is deprecated. Please call randint(0, 1 + 1) instead\n",
      "  for _ in range(n_resampling)):\n",
      "C:\\Users\\semen\\Anaconda2\\lib\\site-packages\\sklearn\\linear_model\\randomized_l1.py:53: DeprecationWarning: This function is deprecated. Please call randint(0, 1 + 1) instead\n",
      "  for _ in range(n_resampling)):\n",
      "C:\\Users\\semen\\Anaconda2\\lib\\site-packages\\sklearn\\linear_model\\randomized_l1.py:53: DeprecationWarning: This function is deprecated. Please call randint(0, 1 + 1) instead\n",
      "  for _ in range(n_resampling)):\n",
      "C:\\Users\\semen\\Anaconda2\\lib\\site-packages\\sklearn\\linear_model\\randomized_l1.py:53: DeprecationWarning: This function is deprecated. Please call randint(0, 1 + 1) instead\n",
      "  for _ in range(n_resampling)):\n",
      "C:\\Users\\semen\\Anaconda2\\lib\\site-packages\\sklearn\\linear_model\\randomized_l1.py:53: DeprecationWarning: This function is deprecated. Please call randint(0, 1 + 1) instead\n",
      "  for _ in range(n_resampling)):\n"
     ]
    },
    {
     "data": {
      "text/plain": [
       "RandomizedLogisticRegression(C=0.13, fit_intercept=True,\n",
       "               memory=Memory(cachedir=None), n_jobs=1, n_resampling=200,\n",
       "               normalize=True, pre_dispatch='3*n_jobs', random_state=None,\n",
       "               sample_fraction=0.75, scaling=0.5, selection_threshold=0.25,\n",
       "               tol=0.001, verbose=False)"
      ]
     },
     "execution_count": 9,
     "metadata": {},
     "output_type": "execute_result"
    }
   ],
   "source": [
    "from sklearn.linear_model import RandomizedLogisticRegression\n",
    "\n",
    "rlg=RandomizedLogisticRegression(C=0.13)\n",
    "rlg.fit(X_train, y_train)"
   ]
  },
  {
   "cell_type": "code",
   "execution_count": 13,
   "metadata": {
    "collapsed": false
   },
   "outputs": [
    {
     "data": {
      "text/plain": [
       "117"
      ]
     },
     "execution_count": 13,
     "metadata": {},
     "output_type": "execute_result"
    }
   ],
   "source": [
    "# посмотрим сколько полезных признаков остается теперь\n",
    "np.sum(rlg.scores_>0)"
   ]
  },
  {
   "cell_type": "code",
   "execution_count": 14,
   "metadata": {
    "collapsed": false
   },
   "outputs": [
    {
     "name": "stdout",
     "output_type": "stream",
     "text": [
      "0.82016\n",
      "0.908590185533\n"
     ]
    }
   ],
   "source": [
    "#настроим для отобранных признаков регрессию\n",
    "X_train_lasso=X_train[:, rlg.scores_>0]\n",
    "X_test_lasso=X_test[:, rlg.scores_>0]\n",
    "\n",
    "\n",
    "clf=LogisticRegression(C=1)\n",
    "clf.fit(X_train_lasso, y_train)\n",
    "\n",
    "print metrics.accuracy_score(y_test, clf.predict(X_test_lasso))\n",
    "print metrics.roc_auc_score(y_test, clf.predict_proba(X_test_lasso)[:, 1])"
   ]
  },
  {
   "cell_type": "markdown",
   "metadata": {},
   "source": [
    "итак мы улучшилирезультат но можно еще лучше."
   ]
  },
  {
   "cell_type": "markdown",
   "metadata": {},
   "source": [
    "# 4.Метод главных компонент"
   ]
  },
  {
   "cell_type": "markdown",
   "metadata": {},
   "source": [
    "Создадим 100 новых синтетических признаков на основании 66 633 признаков при помощи Метода главных компонент и на новых признаках построим логистическую регрессию"
   ]
  },
  {
   "cell_type": "code",
   "execution_count": 17,
   "metadata": {
    "collapsed": false
   },
   "outputs": [
    {
     "name": "stdout",
     "output_type": "stream",
     "text": [
      "0.85936\n",
      "0.938413134626\n"
     ]
    }
   ],
   "source": [
    "from sklearn.decomposition import TruncatedSVD\n",
    "\n",
    "tsvd= TruncatedSVD(n_components=100)\n",
    "X_train_pea=tsvd.fit_transform(X_train)\n",
    "X_test_pea=tsvd.transform(X_test)\n",
    "\n",
    "#Обучим на них логистическую регрессию\n",
    "clf = LogisticRegression()\n",
    "clf.fit(X_train_pea, y_train)\n",
    "\n",
    "print metrics.accuracy_score(y_test, clf.predict(X_test_pea))\n",
    "print metrics.roc_auc_score(y_test, clf.predict_proba(X_test_pea)[:, 1])"
   ]
  },
  {
   "cell_type": "markdown",
   "metadata": {},
   "source": [
    "Получаем еще большее улучшение качества в сравнении с обычным отбором признаков"
   ]
  },
  {
   "cell_type": "markdown",
   "metadata": {},
   "source": [
    "# 5. Случайный лес\n",
    "\n",
    "На этих же синтетических новых признаках обучим случайный лес"
   ]
  },
  {
   "cell_type": "code",
   "execution_count": 19,
   "metadata": {
    "collapsed": false
   },
   "outputs": [
    {
     "name": "stdout",
     "output_type": "stream",
     "text": [
      "0.82672\n",
      "0.908366755639\n"
     ]
    }
   ],
   "source": [
    "from sklearn.ensemble import RandomForestClassifier\n",
    "\n",
    "clf=RandomForestClassifier(n_estimators=100)\n",
    "clf.fit(X_train_pea, y_train)\n",
    "\n",
    "print metrics.accuracy_score(y_test, clf.predict(X_test_pea))\n",
    "print metrics.roc_auc_score(y_test, clf.predict_proba(X_test_pea)[:, 1])"
   ]
  },
  {
   "cell_type": "markdown",
   "metadata": {},
   "source": [
    "Как видим качество на случайном лесе получается хуже логистической регрессии. Это происходит потому что признаки которые дает **метод главных компонент** оптимальны именно для линейных классификаторов"
   ]
  },
  {
   "cell_type": "code",
   "execution_count": null,
   "metadata": {
    "collapsed": true
   },
   "outputs": [],
   "source": []
  }
 ],
 "metadata": {
  "anaconda-cloud": {},
  "kernelspec": {
   "display_name": "Python [Root]",
   "language": "python",
   "name": "Python [Root]"
  },
  "language_info": {
   "codemirror_mode": {
    "name": "ipython",
    "version": 2
   },
   "file_extension": ".py",
   "mimetype": "text/x-python",
   "name": "python",
   "nbconvert_exporter": "python",
   "pygments_lexer": "ipython2",
   "version": "2.7.13"
  }
 },
 "nbformat": 4,
 "nbformat_minor": 0
}
