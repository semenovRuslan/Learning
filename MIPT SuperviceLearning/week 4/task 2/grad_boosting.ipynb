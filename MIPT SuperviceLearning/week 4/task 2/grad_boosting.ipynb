{
 "cells": [
  {
   "cell_type": "markdown",
   "metadata": {},
   "source": [
    "# Градиентный бустинг своими руками\n",
    "\n",
    "**Внимание:** в тексте задания произошли изменения - поменялось число деревьев (теперь 50), правило изменения величины шага в задании 3 и добавился параметр `random_state` у решающего дерева. Правильные ответы не поменялись, но теперь их проще получить. Также исправлена опечатка в функции `gbm_predict`.\n",
    "\n",
    "В этом задании будет использоваться датасет `boston` из `sklearn.datasets`. Оставьте последние 25% объектов для контроля качества, разделив `X` и `y` на `X_train`, `y_train` и `X_test`, `y_test`.\n",
    "\n",
    "Целью задания будет реализовать простой вариант градиентного бустинга над регрессионными деревьями для случая квадратичной функции потерь."
   ]
  },
  {
   "cell_type": "code",
   "execution_count": 36,
   "metadata": {
    "collapsed": false
   },
   "outputs": [
    {
     "name": "stdout",
     "output_type": "stream",
     "text": [
      "Populating the interactive namespace from numpy and matplotlib\n"
     ]
    }
   ],
   "source": [
    "from sklearn import datasets, cross_validation, tree, metrics, linear_model\n",
    "import numpy as np\n",
    "import pandas as pd\n",
    "%pylab inline"
   ]
  },
  {
   "cell_type": "code",
   "execution_count": 2,
   "metadata": {
    "collapsed": false
   },
   "outputs": [],
   "source": [
    "rawdata=datasets.load_boston()\n",
    "train_X, test_X, train_y, test_y = cross_validation.train_test_split(rawdata.data,\n",
    "                                                                     rawdata.target,\n",
    "                                                                     test_size=0.25,\n",
    "                                                                     random_state=1)"
   ]
  },
  {
   "cell_type": "markdown",
   "metadata": {},
   "source": [
    "## Задание 1\n",
    "\n",
    "Как вы уже знаете из лекций, **бустинг** - это метод построения композиций базовых алгоритмов с помощью последовательного добавления к текущей композиции нового алгоритма с некоторым коэффициентом. \n",
    "\n",
    "Градиентный бустинг обучает каждый новый алгоритм так, чтобы он приближал антиградиент ошибки по ответам композиции на обучающей выборке. Аналогично минимизации функций методом градиентного спуска, в градиентном бустинге мы подправляем композицию, изменяя алгоритм в направлении антиградиента ошибки.\n",
    "\n",
    "Воспользуйтесь формулой из лекций, задающей ответы на обучающей выборке, на которые нужно обучать новый алгоритм (фактически это лишь чуть более подробно расписанный градиент от ошибки), и получите частный ее случай, если функция потерь `L` - квадрат отклонения ответа композиции `a(x)` от правильного ответа `y` на данном `x`.\n",
    "\n",
    "Если вы давно не считали производную самостоятельно, вам поможет таблица производных элементарных функций (которую несложно найти в интернете) и правило дифференцирования сложной функции. После дифференцирования квадрата у вас возникнет множитель 2 — т.к. нам все равно предстоит выбирать коэффициент, с которым будет добавлен новый базовый алгоритм, проигноируйте этот множитель при дальнейшем построении алгоритма."
   ]
  },
  {
   "cell_type": "code",
   "execution_count": 33,
   "metadata": {
    "collapsed": false
   },
   "outputs": [
    {
     "name": "stdout",
     "output_type": "stream",
     "text": [
      "6\n"
     ]
    }
   ],
   "source": [
    "def LossFunction(answer_true, answer_our):\n",
    "    return 2*(answer_true-answer_our)\n",
    "    #return 2*(answer_true-answer_our)# deriviate from (answer_true-answer_our)**2\n",
    "#return (answer_true-answer_our)**2\n",
    "\n",
    "\n",
    "print LossFunction(4, 1)"
   ]
  },
  {
   "cell_type": "markdown",
   "metadata": {},
   "source": [
    "## Задание 2\n",
    "\n",
    "Заведите массив для объектов `DecisionTreeRegressor` (будем их использовать в качестве базовых алгоритмов) и для вещественных чисел (это будут коэффициенты перед базовыми алгоритмами). \n",
    "\n",
    "В цикле от обучите последовательно 50 решающих деревьев с параметрами `max_depth=5` и `random_state=42` (остальные параметры - по умолчанию). В бустинге зачастую используются сотни и тысячи деревьев, но мы ограничимся 50, чтобы алгоритм работал быстрее, и его было проще отлаживать (т.к. цель задания разобраться, как работает метод). Каждое дерево должно обучаться на одном и том же множестве объектов, но ответы, которые учится прогнозировать дерево, будут меняться в соответствие с полученным в задании 1 правилом. \n",
    "\n",
    "Попробуйте для начала всегда брать коэффициент равным 0.9. Обычно оправдано выбирать коэффициент значительно меньшим - порядка 0.05 или 0.1, но т.к. в нашем учебном примере на стандартном датасете будет всего 50 деревьев, возьмем для начала шаг побольше.\n",
    "\n",
    "В процессе реализации обучения вам потребуется функция, которая будет вычислять прогноз построенной на данный момент композиции деревьев на выборке `X`:\n",
    "\n",
    "```\n",
    "def gbm_predict(X):\n",
    "    return [sum([coeff * algo.predict([x])[0] for algo, coeff in zip(base_algorithms_list, coefficients_list)]) for x in X]\n",
    "(считаем, что base_algorithms_list - список с базовыми алгоритмами, coefficients_list - список с коэффициентами перед алгоритмами)\n",
    "```\n",
    "\n",
    "Эта же функция поможет вам получить прогноз на контрольной выборке и оценить качество работы вашего алгоритма с помощью `mean_squared_error` в `sklearn.metrics`. \n",
    "\n",
    "Возведите результат в степень 0.5, чтобы получить `RMSE`. Полученное значение `RMSE` — **ответ в пункте 2**."
   ]
  },
  {
   "cell_type": "code",
   "execution_count": 34,
   "metadata": {
    "collapsed": false,
    "scrolled": true
   },
   "outputs": [
    {
     "name": "stdout",
     "output_type": "stream",
     "text": [
      "1 error 5.25126056534\n",
      "2 error 4.75928552805\n",
      "3 error 5.36564289217\n",
      "4 error 5.42846264\n",
      "5 error 5.57399483781\n",
      "6 error 5.65518285547\n",
      "7 error 5.75050880128\n",
      "8 error 5.96438468579\n",
      "9 error 5.80271467823\n",
      "10 error 6.01495564489\n",
      "11 error 6.05535570518\n",
      "12 error 6.30185791297\n",
      "13 error 6.19483564498\n",
      "14 error 6.47460203562\n",
      "15 error 6.28323682285\n",
      "16 error 6.46101590004\n",
      "17 error 6.46505085355\n",
      "18 error 6.44134079861\n",
      "19 error 6.37816855266\n",
      "20 error 6.38611111386\n",
      "21 error 6.42780741589\n",
      "22 error 6.43799917816\n",
      "23 error 6.39873750306\n",
      "24 error 6.38719901516\n",
      "25 error 6.4368210668\n",
      "26 error 6.47212130317\n",
      "27 error 6.55910731621\n",
      "28 error 6.47382410113\n",
      "29 error 6.49791192412\n",
      "30 error 6.46374393944\n",
      "31 error 6.46634112717\n",
      "32 error 6.49351786343\n",
      "33 error 6.46352250466\n",
      "34 error 6.50260121769\n",
      "35 error 6.48803598841\n",
      "36 error 6.51043485469\n",
      "37 error 6.50647547034\n",
      "38 error 6.52805389448\n",
      "39 error 6.45761677061\n",
      "40 error 6.47126738611\n",
      "41 error 6.4784677943\n",
      "42 error 6.48561126167\n",
      "43 error 6.48471833802\n",
      "44 error 6.47498979867\n",
      "45 error 6.47093815525\n",
      "46 error 6.49260612417\n",
      "47 error 6.50718509278\n",
      "48 error 6.54649831262\n",
      "49 error 6.55471552167\n",
      "The Result is /n 6.55471552167\n"
     ]
    }
   ],
   "source": [
    "base_algoritms_list=[]\n",
    "coefficient_list=[]\n",
    "\n",
    "def gbm_predict(X):\n",
    "    return [sum([coeff*algo.predict([x])[0] for algo, coeff in zip(base_algoritms_list, coefficient_list)]) for x in X]\n",
    "\n",
    "count_of_tree=50\n",
    "for i in range(count_of_tree):\n",
    "    if i==0:\n",
    "        algo = tree.DecisionTreeRegressor(max_depth=5, random_state=42)\n",
    "        algo.fit(train_X, train_y)\n",
    "        base_algoritms_list.append(algo)\n",
    "        coefficient_list.append(0.9)#(0.9/(0.1+i))\n",
    "        continue\n",
    "    algo = tree.DecisionTreeRegressor(max_depth=5, random_state=42)\n",
    "    delta_=gbm_predict(train_X)\n",
    "    algo.fit(train_X, LossFunction(train_y, delta_))\n",
    "    base_algoritms_list.append(algo)\n",
    "    coefficient_list.append(0.9)#(0.9/(0.1+i))\n",
    "    print \"{} error {}\".format(i, np.sqrt(metrics.mean_squared_error(test_y, gbm_predict(test_X))))\n",
    "    \n",
    "print \"The Result is /n {}\".format(np.sqrt(metrics.mean_squared_error(test_y, gbm_predict(test_X))))\n",
    "    \n"
   ]
  },
  {
   "cell_type": "markdown",
   "metadata": {},
   "source": [
    "## Задание 3\n",
    "\n",
    "Вас может также беспокоить, что двигаясь с постоянным шагом, вблизи минимума ошибки ответы на обучающей выборке меняются слишком резко, перескакивая через минимум. \n",
    "\n",
    "Попробуйте уменьшать вес перед каждым алгоритмом с каждой следующей итерацией по формуле `0.9 / (1.0 + i)`, где `i` - номер итерации (от 0 до 49). Используйте качество работы алгоритма как **ответ в пункте 3**. \n",
    "\n",
    "В реальности часто применяется следующая стратегия выбора шага: как только выбран алгоритм, подберем коэффициент перед ним численным методом оптимизации таким образом, чтобы отклонение от правильных ответов было минимальным. Мы не будем предлагать вам реализовать это для выполнения задания, но рекомендуем попробовать разобраться с такой стратегией и реализовать ее при случае для себя."
   ]
  },
  {
   "cell_type": "code",
   "execution_count": 35,
   "metadata": {
    "collapsed": false,
    "scrolled": true
   },
   "outputs": [
    {
     "name": "stdout",
     "output_type": "stream",
     "text": [
      "1 error 127.469735895\n",
      "2 error 19.0222323992\n",
      "3 error 9.8053600985\n",
      "4 error 7.48579630754\n",
      "5 error 6.75239329279\n",
      "6 error 6.50863395746\n",
      "7 error 6.34581137942\n",
      "8 error 6.24972072032\n",
      "9 error 6.21122907615\n",
      "10 error 6.18058190184\n",
      "11 error 6.15505936446\n",
      "12 error 6.14255887916\n",
      "13 error 6.13394126762\n",
      "14 error 6.11685880583\n",
      "15 error 6.11243429481\n",
      "16 error 6.11355610013\n",
      "17 error 6.10721511936\n",
      "18 error 6.1027159271\n",
      "19 error 6.10054661933\n",
      "20 error 6.09548395096\n",
      "21 error 6.0922691643\n",
      "22 error 6.09512552271\n",
      "23 error 6.09523157851\n",
      "24 error 6.09515885933\n",
      "25 error 6.08571236296\n",
      "26 error 6.08855279042\n",
      "27 error 6.08425131357\n",
      "28 error 6.08527215507\n",
      "29 error 6.08650430436\n",
      "30 error 6.08766627488\n",
      "31 error 6.08949074263\n",
      "32 error 6.08866122383\n",
      "33 error 6.08780706394\n",
      "34 error 6.08805234913\n",
      "35 error 6.08739351644\n",
      "36 error 6.0885043799\n",
      "37 error 6.08997052221\n",
      "38 error 6.09007065503\n",
      "39 error 6.09065057947\n",
      "40 error 6.08890073529\n",
      "41 error 6.0892992859\n",
      "42 error 6.09065130322\n",
      "43 error 6.09039544483\n",
      "44 error 6.08908293964\n",
      "45 error 6.08799454008\n",
      "46 error 6.08829400052\n",
      "47 error 6.08876661111\n",
      "48 error 6.08896271695\n",
      "49 error 6.08827684339\n",
      "The Result is /n 6.08827684339\n"
     ]
    }
   ],
   "source": [
    "base_algoritms_list=[]\n",
    "coefficient_list=[]\n",
    "\n",
    "def gbm_predict(X):\n",
    "    return [sum([coeff*algo.predict([x])[0] for algo, coeff in zip(base_algoritms_list, coefficient_list)]) for x in X]\n",
    "\n",
    "count_of_tree=50\n",
    "for i in range(count_of_tree):\n",
    "    if i==0:\n",
    "        algo = tree.DecisionTreeRegressor(max_depth=5, random_state=42)\n",
    "        algo.fit(train_X, train_y)\n",
    "        base_algoritms_list.append(algo)\n",
    "        coefficient_list.append(0.9/(0.1+i))\n",
    "        continue\n",
    "    algo = tree.DecisionTreeRegressor(max_depth=5, random_state=42)\n",
    "    delta_=gbm_predict(train_X)\n",
    "    algo.fit(train_X, LossFunction(train_y, delta_))\n",
    "    base_algoritms_list.append(algo)\n",
    "    coefficient_list.append(0.9/(0.1+i))\n",
    "    print \"{} error {}\".format(i, np.sqrt(metrics.mean_squared_error(test_y, gbm_predict(test_X))))\n",
    "    \n",
    "print \"The Result is /n {}\".format(np.sqrt(metrics.mean_squared_error(test_y, gbm_predict(test_X))))"
   ]
  },
  {
   "cell_type": "markdown",
   "metadata": {},
   "source": [
    "## Задание 4\n",
    "\n",
    "Реализованный вами метод - градиентный бустинг над деревьями - очень популярен в машинном обучении. Он представлен как в самой библиотеке `sklearn`, так и в сторонней библиотеке `XGBoost`, которая имеет свой питоновский интерфейс. На практике `XGBoost` работает заметно лучше `GradientBoostingRegressor` из `sklearn`, но для этого задания вы можете использовать любую реализацию. \n",
    "\n",
    "Исследуйте, переобучается ли градиентный бустинг с ростом числа итераций (и подумайте, почему), а также с ростом глубины деревьев. На основе наблюдений выпишите через пробел номера правильных из приведенных ниже утверждений в порядке возрастания номера (это будет **ответ в п.4**):\n",
    "\n",
    "    1. С увеличением числа деревьев, начиная с некоторого момента, качество работы градиентного бустинга не меняется существенно.\n",
    "\n",
    "    2. С увеличением числа деревьев, начиная с некоторого момента, градиентный бустинг начинает переобучаться.\n",
    "\n",
    "    3. С ростом глубины деревьев, начиная с некоторого момента, качество работы градиентного бустинга на тестовой выборке начинает ухудшаться.\n",
    "\n",
    "    4. С ростом глубины деревьев, начиная с некоторого момента, качество работы градиентного бустинга перестает существенно изменяться"
   ]
  },
  {
   "cell_type": "code",
   "execution_count": null,
   "metadata": {
    "collapsed": true
   },
   "outputs": [],
   "source": []
  },
  {
   "cell_type": "markdown",
   "metadata": {},
   "source": [
    "## Задание 5\n",
    "\n",
    "Сравните получаемое с помощью градиентного бустинга качество с качеством работы линейной регрессии. \n",
    "\n",
    "Для этого обучите `LinearRegression` из `sklearn.linear_model` (с параметрами по умолчанию) на обучающей выборке и оцените для прогнозов полученного алгоритма на тестовой выборке `RMSE`. Полученное качество - ответ в **пункте 5**. \n",
    "\n",
    "В данном примере качество работы простой модели должно было оказаться хуже, но не стоит забывать, что так бывает не всегда. В заданиях к этому курсу вы еще встретите пример обратной ситуации."
   ]
  },
  {
   "cell_type": "code",
   "execution_count": 37,
   "metadata": {
    "collapsed": false
   },
   "outputs": [
    {
     "data": {
      "text/plain": [
       "21.889369432474023"
      ]
     },
     "execution_count": 37,
     "metadata": {},
     "output_type": "execute_result"
    }
   ],
   "source": [
    "comparing_algoritm = linear_model.LinearRegression()\n",
    "comparing_algoritm.fit(train_X, train_y)\n",
    "pred = comparing_algoritm.predict(test_X)\n",
    "metrics.mean_squared_error(test_y, pred)"
   ]
  },
  {
   "cell_type": "code",
   "execution_count": null,
   "metadata": {
    "collapsed": true
   },
   "outputs": [],
   "source": []
  }
 ],
 "metadata": {
  "anaconda-cloud": {},
  "kernelspec": {
   "display_name": "Python [Root]",
   "language": "python",
   "name": "Python [Root]"
  },
  "language_info": {
   "codemirror_mode": {
    "name": "ipython",
    "version": 2
   },
   "file_extension": ".py",
   "mimetype": "text/x-python",
   "name": "python",
   "nbconvert_exporter": "python",
   "pygments_lexer": "ipython2",
   "version": "2.7.13"
  }
 },
 "nbformat": 4,
 "nbformat_minor": 0
}
