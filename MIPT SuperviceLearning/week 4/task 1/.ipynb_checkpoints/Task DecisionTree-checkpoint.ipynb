{
 "cells": [
  {
   "cell_type": "markdown",
   "metadata": {},
   "source": [
    "# Task homepad 3"
   ]
  },
  {
   "cell_type": "markdown",
   "metadata": {},
   "source": [
    "Загрузите датасет digits с помощью функции load_digits из sklearn.datasets и подготовьте матрицу признаков X и ответы на обучающей выборке y (вам потребуются поля data и target в объекте, который возвращает load_digits)."
   ]
  },
  {
   "cell_type": "code",
   "execution_count": 1,
   "metadata": {
    "collapsed": true
   },
   "outputs": [],
   "source": [
    "from sklearn import datasets\n",
    "\n",
    "rawdata= datasets.load_digits()\n",
    "X=rawdata.data\n",
    "y=rawdata.target"
   ]
  },
  {
   "cell_type": "markdown",
   "metadata": {},
   "source": [
    "** 1. Task **\n",
    "\n",
    "\n",
    "Создайте DecisionTreeClassifier с настройками по умолчанию и измерьте качество его работы с помощью cross_val_score. Эта величина и будет ответом в пункте 1."
   ]
  },
  {
   "cell_type": "code",
   "execution_count": 2,
   "metadata": {
    "collapsed": false
   },
   "outputs": [
    {
     "data": {
      "text/plain": [
       "0.86296296296296293"
      ]
     },
     "execution_count": 2,
     "metadata": {},
     "output_type": "execute_result"
    }
   ],
   "source": [
    "from sklearn import cross_validation, tree, metrics\n",
    "\n",
    "estimator=tree.DecisionTreeClassifier(random_state=1)\n",
    "#random algorithm\n",
    "train_X, test_X, train_y, test_y = cross_validation.train_test_split(X, y, test_size=0.3, random_state=1)\n",
    "estimator.fit(train_X, train_y)\n",
    "prediction=estimator.predict(test_X)\n",
    "metrics.accuracy_score(prediction, test_y)"
   ]
  },
  {
   "cell_type": "markdown",
   "metadata": {},
   "source": [
    "Для оценки качества далее нужно будет использовать cross_val_score из sklearn.cross_validation с параметром cv=10. Эта функция реализует k-fold cross validation c k равным значению параметра cv. Мы предлагаем использовать k=10, чтобы полученные оценки качества имели небольшой разброс, и было проще проверить полученные ответы. На практике же часто хватает и k=5. Функция cross_val_score будет возвращать numpy.ndarray, в котором будет k чисел - качество в каждом из k экспериментов k-fold cross validation. Для получения среднего значения (которое и будет оценкой качества работы) вызовите метод .mean() у массива, который возвращает cross_val_score."
   ]
  },
  {
   "cell_type": "code",
   "execution_count": 3,
   "metadata": {
    "collapsed": false
   },
   "outputs": [
    {
     "name": "stdout",
     "output_type": "stream",
     "text": [
      "Reslt is 0.83086244395\n"
     ]
    },
    {
     "data": {
      "text/plain": [
       "array([ 0.8       ,  0.84153005,  0.82320442,  0.80555556,  0.7877095 ,\n",
       "        0.89944134,  0.90502793,  0.82022472,  0.83615819,  0.78977273])"
      ]
     },
     "execution_count": 3,
     "metadata": {},
     "output_type": "execute_result"
    }
   ],
   "source": [
    "reslt = cross_validation.cross_val_score(estimator, X, y, cv=10)\n",
    "print \"Reslt is {}\".format(reslt.mean(axis=0))\n",
    "reslt"
   ]
  },
  {
   "cell_type": "markdown",
   "metadata": {
    "collapsed": false
   },
   "source": [
    "**2. Task Bagging**\n",
    "\n",
    "Воспользуйтесь BaggingClassifier из sklearn.ensemble, чтобы обучить бэггинг над DecisionTreeClassifier. Используйте в BaggingClassifier параметры по умолчанию, задав только количество деревьев равным 100. Обратите внимание, как соотносится качество работы композиции решающих деревьев с качеством работы одного решающего дерева."
   ]
  },
  {
   "cell_type": "code",
   "execution_count": 44,
   "metadata": {
    "collapsed": false
   },
   "outputs": [
    {
     "name": "stdout",
     "output_type": "stream",
     "text": [
      "Reslt is 0.955555556\n"
     ]
    }
   ],
   "source": [
    "from sklearn import ensemble\n",
    "\n",
    "estimator=tree.DecisionTreeClassifier(random_state=1)\n",
    "\n",
    "estimatorBagging = ensemble.BaggingClassifier(estimator, n_estimators=100)\n",
    "estimatorBagging.fit(train_X, train_y)\n",
    "\n",
    "predictionBagging=estimatorBagging.predict(test_X)\n",
    "reslt = metrics.accuracy_score(predictionBagging, test_y)\n",
    "print \"Reslt is {:10.9f}\".format(reslt)"
   ]
  },
  {
   "cell_type": "markdown",
   "metadata": {},
   "source": [
    "**3. Task Bagging Horisontal**\n",
    "\n",
    "Теперь изучите параметры BaggingClassifier и выберите их такими, чтобы каждый базовый алгоритм обучался не на всех d признаках, а на d√ случайных признаков. Качество работы получившегося классификатора - ответ в пункте 3. Корень из числа признаков - часто используемая эвристика в задачах классификации, в задачах регрессии же часто берут число признаков, деленное на три. Но в общем случае ничто не мешает вам выбирать любое другое число случайных признаков.\n"
   ]
  },
  {
   "cell_type": "code",
   "execution_count": 45,
   "metadata": {
    "collapsed": false
   },
   "outputs": [
    {
     "name": "stdout",
     "output_type": "stream",
     "text": [
      "Reslt is 0.955555556\n"
     ]
    }
   ],
   "source": [
    "from sklearn import ensemble\n",
    "import numpy as np\n",
    "\n",
    "n_features= train_X.shape[1]\n",
    "estimator= tree.DecisionTreeClassifier(random_state=1)\n",
    "\n",
    "estimatorBagging = ensemble.BaggingClassifier(estimator, n_estimators=100, max_features=int(np.sqrt(n_features)))\n",
    "estimatorBagging.fit(train_X, train_y)\n",
    "\n",
    "predictionBagging=estimatorBagging.predict(test_X)\n",
    "reslt = metrics.accuracy_score(predictionBagging, test_y)\n",
    "print \"Reslt is {:10.9f}\".format(reslt)"
   ]
  },
  {
   "cell_type": "markdown",
   "metadata": {},
   "source": [
    "**4. Task** \n",
    "\n",
    "Наконец, давайте попробуем выбирать случайные признаки не один раз на все дерево, а при построении каждой вершины дерева. Сделать это несложно: нужно убрать выбор случайного подмножества признаков в BaggingClassifier и добавить его в DecisionTreeClassifier. Какой параметр за это отвечает, можно понять из документации sklearn, либо просто попробовать угадать (скорее всего, у вас сразу получится). Попробуйте выбирать опять же d√ признаков. Качество полученного классификатора на контрольной выборке и будет ответом "
   ]
  },
  {
   "cell_type": "code",
   "execution_count": 46,
   "metadata": {
    "collapsed": false
   },
   "outputs": [
    {
     "name": "stdout",
     "output_type": "stream",
     "text": [
      "Reslt is 0.979629630\n"
     ]
    }
   ],
   "source": [
    "from sklearn import ensemble\n",
    "import numpy as np\n",
    "\n",
    "n_features= train_X.shape[1]\n",
    "estimator=tree.DecisionTreeClassifier(random_state=1, max_features=int(np.sqrt(n_features)))\n",
    "estimatorBagging = ensemble.BaggingClassifier(estimator, n_estimators=100)\n",
    "estimatorBagging.fit(train_X, train_y)\n",
    "\n",
    "predictionBagging=estimatorBagging.predict(test_X)\n",
    "reslt = metrics.accuracy_score(predictionBagging, test_y)\n",
    "print \"Reslt is {:10.9f}\".format(reslt)"
   ]
  },
  {
   "cell_type": "markdown",
   "metadata": {},
   "source": [
    "** 5. Task Random Forest**\n",
    "\n",
    "Полученный в пункте 4 классификатор - бэггинг на рандомизированных деревьях (в которых при построении каждой вершины выбирается случайное подмножество признаков и разбиение ищется только по ним). Это в точности соответствует алгоритму Random Forest, поэтому почему бы не сравнить качество работы классификатора с RandomForestClassifier из sklearn.ensemble. Сделайте это, а затем изучите, как качество классификации на данном датасете зависит от количества деревьев, количества признаков, выбираемых при построении каждой вершины дерева, а также ограничений на глубину дерева. Для наглядности лучше построить графики зависимости качества от значений параметров, но для сдачи задания это делать не обязательно"
   ]
  },
  {
   "cell_type": "code",
   "execution_count": 47,
   "metadata": {
    "collapsed": false
   },
   "outputs": [
    {
     "name": "stdout",
     "output_type": "stream",
     "text": [
      "Reslt is 0.979629630\n"
     ]
    }
   ],
   "source": [
    "from sklearn import ensemble\n",
    "\n",
    "estimatorRandomForest =ensemble.RandomForestClassifier(random_state=1, \n",
    "                                                      max_features=int(np.sqrt(n_features)), \n",
    "                                                      n_estimators=100)\n",
    "estimatorRandomForest.fit(train_X, train_y)\n",
    "predictionRandomForest = estimatorRandomForest.predict(test_X)\n",
    "reslt = metrics.accuracy_score(predictionBagging, test_y)\n",
    "print \"Reslt is {:10.9f}\".format(reslt)"
   ]
  },
  {
   "cell_type": "markdown",
   "metadata": {},
   "source": [
    "Изучите, как качество классификации на данном датасете зависит от количества деревьев, количества признаков, выбираемых при построении каждой вершины дерева, а также ограничений на глубину дерева. Для наглядности лучше построить графики зависимости качества от значений параметров."
   ]
  },
  {
   "cell_type": "code",
   "execution_count": null,
   "metadata": {
    "collapsed": true
   },
   "outputs": [],
   "source": []
  }
 ],
 "metadata": {
  "anaconda-cloud": {},
  "kernelspec": {
   "display_name": "Python [Root]",
   "language": "python",
   "name": "Python [Root]"
  },
  "language_info": {
   "codemirror_mode": {
    "name": "ipython",
    "version": 2
   },
   "file_extension": ".py",
   "mimetype": "text/x-python",
   "name": "python",
   "nbconvert_exporter": "python",
   "pygments_lexer": "ipython2",
   "version": "2.7.13"
  }
 },
 "nbformat": 4,
 "nbformat_minor": 0
}
